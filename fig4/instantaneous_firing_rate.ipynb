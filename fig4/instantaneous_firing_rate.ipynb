{
 "cells": [
  {
   "cell_type": "markdown",
   "id": "56e635f5-07e0-4a6b-86c4-ab9d4b7da024",
   "metadata": {},
   "source": [
    "# Instantaneous firing rate\n",
    "\n",
    "We calculate the instantaneous firing rate of all neurons and save the results for later.\n",
    "\n",
    "For convenience, we should get the same time resolution as the AnimalPose.pose data (50Hz).\n"
   ]
  },
  {
   "cell_type": "code",
   "execution_count": 1,
   "id": "a125d988-c869-4c95-b526-b4e020d5e769",
   "metadata": {},
   "outputs": [
    {
     "name": "stdout",
     "output_type": "stream",
     "text": [
      "Project name: autopi_ca1\n",
      "dataPath: /ext_drives/d80/Jazi_etal_2023_noInter/autopi_ca1\n",
      "dlcModelPath: /adata/models\n",
      "Reading /ext_drives/d80/Jazi_etal_2023_noInter/autopi_ca1/sessionList\n",
      "We have 39 testing sessions in the list\n",
      "See myProject and sSesList objects\n",
      "Loading Animal_pose and Spike_train, sSes.ap and sSes.cg\n"
     ]
    },
    {
     "name": "stderr",
     "output_type": "stream",
     "text": [
      "100%|█████████████████████████████████████████████████████████████████████████████████████████████████████| 39/39 [00:13<00:00,  2.99it/s]"
     ]
    },
    {
     "name": "stdout",
     "output_type": "stream",
     "text": [
      "Loading ses.trial_table_simple as ses.trials\n",
      "Create condition intervals in ses.intervalDict\n"
     ]
    },
    {
     "name": "stderr",
     "output_type": "stream",
     "text": [
      "\n"
     ]
    }
   ],
   "source": [
    "%load_ext autoreload\n",
    "%autoreload 2\n",
    "\n",
    "%run ~/repo/autopi_analysis_bk/Jazi_et.al_2023_noInt/setup_project.py\n",
    "%run ~/repo/autopi_analysis_bk/Jazi_et.al_2023_noInt/neuronAutopi.py\n",
    "\n",
    "prepareSessionsForSpatialAnalysisProject(sSesList,myProject.sessionList)"
   ]
  },
  {
   "cell_type": "code",
   "execution_count": 2,
   "id": "5adad73d-6248-4f86-8da0-65d50b1d17f7",
   "metadata": {},
   "outputs": [],
   "source": [
    "ses = myProject.sessionList[-1]\n",
    "sSes = sSesList[-1]"
   ]
  },
  {
   "cell_type": "code",
   "execution_count": 3,
   "id": "5d68f8f2-6c07-41dd-b33e-fd3c71c2ab4b",
   "metadata": {},
   "outputs": [
    {
     "name": "stdout",
     "output_type": "stream",
     "text": [
      "loading /ext_drives/d80/Jazi_etal_2023_noInter/autopi_ca1/mn9686/mn9686-01112021-0106/navPathInstan.csv\n"
     ]
    },
    {
     "data": {
      "text/html": [
       "<div>\n",
       "<style scoped>\n",
       "    .dataframe tbody tr th:only-of-type {\n",
       "        vertical-align: middle;\n",
       "    }\n",
       "\n",
       "    .dataframe tbody tr th {\n",
       "        vertical-align: top;\n",
       "    }\n",
       "\n",
       "    .dataframe thead th {\n",
       "        text-align: right;\n",
       "    }\n",
       "</style>\n",
       "<table border=\"1\" class=\"dataframe\">\n",
       "  <thead>\n",
       "    <tr style=\"text-align: right;\">\n",
       "      <th></th>\n",
       "      <th>name</th>\n",
       "      <th>trialNo</th>\n",
       "      <th>timeRos</th>\n",
       "      <th>timeRes</th>\n",
       "      <th>iTime</th>\n",
       "      <th>iTimeProp</th>\n",
       "      <th>distance</th>\n",
       "      <th>distanceProp</th>\n",
       "      <th>speed</th>\n",
       "      <th>x</th>\n",
       "      <th>y</th>\n",
       "      <th>targetDistance</th>\n",
       "      <th>targetToAnimalX</th>\n",
       "      <th>targetToAnimalY</th>\n",
       "      <th>targetToAnimalAngle</th>\n",
       "      <th>cumSumDiffAngleAroundTarget</th>\n",
       "    </tr>\n",
       "  </thead>\n",
       "  <tbody>\n",
       "    <tr>\n",
       "      <th>0</th>\n",
       "      <td>mn9686-01112021-0106_1-0_all</td>\n",
       "      <td>1</td>\n",
       "      <td>1.635781e+09</td>\n",
       "      <td>3057.72</td>\n",
       "      <td>0.000000</td>\n",
       "      <td>0.000000</td>\n",
       "      <td>0.226477</td>\n",
       "      <td>0.000939</td>\n",
       "      <td>10.469781</td>\n",
       "      <td>-1.547535</td>\n",
       "      <td>-42.772820</td>\n",
       "      <td>43.748974</td>\n",
       "      <td>-0.886454</td>\n",
       "      <td>-49.407187</td>\n",
       "      <td>-1.588736</td>\n",
       "      <td>NaN</td>\n",
       "    </tr>\n",
       "    <tr>\n",
       "      <th>1</th>\n",
       "      <td>mn9686-01112021-0106_1-0_all</td>\n",
       "      <td>1</td>\n",
       "      <td>1.635781e+09</td>\n",
       "      <td>3057.74</td>\n",
       "      <td>0.021631</td>\n",
       "      <td>0.002355</td>\n",
       "      <td>0.521394</td>\n",
       "      <td>0.002163</td>\n",
       "      <td>11.984293</td>\n",
       "      <td>-1.505792</td>\n",
       "      <td>-42.550224</td>\n",
       "      <td>43.525129</td>\n",
       "      <td>-0.844711</td>\n",
       "      <td>-49.184590</td>\n",
       "      <td>-1.587969</td>\n",
       "      <td>0.000767</td>\n",
       "    </tr>\n",
       "    <tr>\n",
       "      <th>2</th>\n",
       "      <td>mn9686-01112021-0106_1-0_all</td>\n",
       "      <td>1</td>\n",
       "      <td>1.635781e+09</td>\n",
       "      <td>3057.76</td>\n",
       "      <td>0.046240</td>\n",
       "      <td>0.005035</td>\n",
       "      <td>0.817749</td>\n",
       "      <td>0.003392</td>\n",
       "      <td>13.761295</td>\n",
       "      <td>-1.477743</td>\n",
       "      <td>-42.256644</td>\n",
       "      <td>43.230798</td>\n",
       "      <td>-0.816662</td>\n",
       "      <td>-48.891010</td>\n",
       "      <td>-1.587499</td>\n",
       "      <td>0.001238</td>\n",
       "    </tr>\n",
       "    <tr>\n",
       "      <th>3</th>\n",
       "      <td>mn9686-01112021-0106_1-0_all</td>\n",
       "      <td>1</td>\n",
       "      <td>1.635781e+09</td>\n",
       "      <td>3057.78</td>\n",
       "      <td>0.067775</td>\n",
       "      <td>0.007380</td>\n",
       "      <td>1.209617</td>\n",
       "      <td>0.005018</td>\n",
       "      <td>20.032589</td>\n",
       "      <td>-1.470911</td>\n",
       "      <td>-41.960367</td>\n",
       "      <td>42.934455</td>\n",
       "      <td>-0.809830</td>\n",
       "      <td>-48.594734</td>\n",
       "      <td>-1.587460</td>\n",
       "      <td>0.001276</td>\n",
       "    </tr>\n",
       "    <tr>\n",
       "      <th>4</th>\n",
       "      <td>mn9686-01112021-0106_1-0_all</td>\n",
       "      <td>1</td>\n",
       "      <td>1.635781e+09</td>\n",
       "      <td>3057.80</td>\n",
       "      <td>0.087337</td>\n",
       "      <td>0.009510</td>\n",
       "      <td>1.694762</td>\n",
       "      <td>0.007030</td>\n",
       "      <td>30.082162</td>\n",
       "      <td>-1.502748</td>\n",
       "      <td>-41.569795</td>\n",
       "      <td>42.545125</td>\n",
       "      <td>-0.841667</td>\n",
       "      <td>-48.204161</td>\n",
       "      <td>-1.588255</td>\n",
       "      <td>0.000481</td>\n",
       "    </tr>\n",
       "    <tr>\n",
       "      <th>...</th>\n",
       "      <td>...</td>\n",
       "      <td>...</td>\n",
       "      <td>...</td>\n",
       "      <td>...</td>\n",
       "      <td>...</td>\n",
       "      <td>...</td>\n",
       "      <td>...</td>\n",
       "      <td>...</td>\n",
       "      <td>...</td>\n",
       "      <td>...</td>\n",
       "      <td>...</td>\n",
       "      <td>...</td>\n",
       "      <td>...</td>\n",
       "      <td>...</td>\n",
       "      <td>...</td>\n",
       "      <td>...</td>\n",
       "    </tr>\n",
       "    <tr>\n",
       "      <th>172877</th>\n",
       "      <td>mn9686-01112021-0106_160-1_atLever</td>\n",
       "      <td>160</td>\n",
       "      <td>1.635786e+09</td>\n",
       "      <td>8393.02</td>\n",
       "      <td>1.858261</td>\n",
       "      <td>0.950462</td>\n",
       "      <td>64.690139</td>\n",
       "      <td>0.965279</td>\n",
       "      <td>35.879708</td>\n",
       "      <td>-18.847819</td>\n",
       "      <td>-25.363831</td>\n",
       "      <td>8.941222</td>\n",
       "      <td>-15.222911</td>\n",
       "      <td>-1.085322</td>\n",
       "      <td>-3.070418</td>\n",
       "      <td>4.739598</td>\n",
       "    </tr>\n",
       "    <tr>\n",
       "      <th>172878</th>\n",
       "      <td>mn9686-01112021-0106_160-1_atLever</td>\n",
       "      <td>160</td>\n",
       "      <td>1.635786e+09</td>\n",
       "      <td>8393.04</td>\n",
       "      <td>1.879748</td>\n",
       "      <td>0.961452</td>\n",
       "      <td>65.473458</td>\n",
       "      <td>0.976967</td>\n",
       "      <td>36.726040</td>\n",
       "      <td>-18.781886</td>\n",
       "      <td>-26.131971</td>\n",
       "      <td>9.217626</td>\n",
       "      <td>-15.156978</td>\n",
       "      <td>-1.853462</td>\n",
       "      <td>-3.019912</td>\n",
       "      <td>4.790103</td>\n",
       "    </tr>\n",
       "    <tr>\n",
       "      <th>172879</th>\n",
       "      <td>mn9686-01112021-0106_160-1_atLever</td>\n",
       "      <td>160</td>\n",
       "      <td>1.635786e+09</td>\n",
       "      <td>8393.06</td>\n",
       "      <td>1.901077</td>\n",
       "      <td>0.972361</td>\n",
       "      <td>66.251160</td>\n",
       "      <td>0.988572</td>\n",
       "      <td>36.775143</td>\n",
       "      <td>-18.668076</td>\n",
       "      <td>-26.906977</td>\n",
       "      <td>9.511755</td>\n",
       "      <td>-15.043168</td>\n",
       "      <td>-2.628468</td>\n",
       "      <td>-2.968611</td>\n",
       "      <td>4.841405</td>\n",
       "    </tr>\n",
       "    <tr>\n",
       "      <th>172880</th>\n",
       "      <td>mn9686-01112021-0106_160-1_atLever</td>\n",
       "      <td>160</td>\n",
       "      <td>1.635786e+09</td>\n",
       "      <td>8393.08</td>\n",
       "      <td>1.922224</td>\n",
       "      <td>0.983178</td>\n",
       "      <td>67.017058</td>\n",
       "      <td>1.000000</td>\n",
       "      <td>23.287125</td>\n",
       "      <td>-18.505967</td>\n",
       "      <td>-27.667596</td>\n",
       "      <td>9.812199</td>\n",
       "      <td>-14.881058</td>\n",
       "      <td>-3.389087</td>\n",
       "      <td>-2.917667</td>\n",
       "      <td>4.892349</td>\n",
       "    </tr>\n",
       "    <tr>\n",
       "      <th>172881</th>\n",
       "      <td>mn9686-01112021-0106_160-1_atLever</td>\n",
       "      <td>160</td>\n",
       "      <td>1.635786e+09</td>\n",
       "      <td>8393.10</td>\n",
       "      <td>1.955114</td>\n",
       "      <td>1.000000</td>\n",
       "      <td>67.017058</td>\n",
       "      <td>1.000000</td>\n",
       "      <td>NaN</td>\n",
       "      <td>-18.327809</td>\n",
       "      <td>-28.412486</td>\n",
       "      <td>10.123331</td>\n",
       "      <td>-14.702900</td>\n",
       "      <td>-4.133976</td>\n",
       "      <td>-2.867502</td>\n",
       "      <td>4.942514</td>\n",
       "    </tr>\n",
       "  </tbody>\n",
       "</table>\n",
       "<p>172882 rows × 16 columns</p>\n",
       "</div>"
      ],
      "text/plain": [
       "                                      name  trialNo       timeRos  timeRes  \\\n",
       "0             mn9686-01112021-0106_1-0_all        1  1.635781e+09  3057.72   \n",
       "1             mn9686-01112021-0106_1-0_all        1  1.635781e+09  3057.74   \n",
       "2             mn9686-01112021-0106_1-0_all        1  1.635781e+09  3057.76   \n",
       "3             mn9686-01112021-0106_1-0_all        1  1.635781e+09  3057.78   \n",
       "4             mn9686-01112021-0106_1-0_all        1  1.635781e+09  3057.80   \n",
       "...                                    ...      ...           ...      ...   \n",
       "172877  mn9686-01112021-0106_160-1_atLever      160  1.635786e+09  8393.02   \n",
       "172878  mn9686-01112021-0106_160-1_atLever      160  1.635786e+09  8393.04   \n",
       "172879  mn9686-01112021-0106_160-1_atLever      160  1.635786e+09  8393.06   \n",
       "172880  mn9686-01112021-0106_160-1_atLever      160  1.635786e+09  8393.08   \n",
       "172881  mn9686-01112021-0106_160-1_atLever      160  1.635786e+09  8393.10   \n",
       "\n",
       "           iTime  iTimeProp   distance  distanceProp      speed          x  \\\n",
       "0       0.000000   0.000000   0.226477      0.000939  10.469781  -1.547535   \n",
       "1       0.021631   0.002355   0.521394      0.002163  11.984293  -1.505792   \n",
       "2       0.046240   0.005035   0.817749      0.003392  13.761295  -1.477743   \n",
       "3       0.067775   0.007380   1.209617      0.005018  20.032589  -1.470911   \n",
       "4       0.087337   0.009510   1.694762      0.007030  30.082162  -1.502748   \n",
       "...          ...        ...        ...           ...        ...        ...   \n",
       "172877  1.858261   0.950462  64.690139      0.965279  35.879708 -18.847819   \n",
       "172878  1.879748   0.961452  65.473458      0.976967  36.726040 -18.781886   \n",
       "172879  1.901077   0.972361  66.251160      0.988572  36.775143 -18.668076   \n",
       "172880  1.922224   0.983178  67.017058      1.000000  23.287125 -18.505967   \n",
       "172881  1.955114   1.000000  67.017058      1.000000        NaN -18.327809   \n",
       "\n",
       "                y  targetDistance  targetToAnimalX  targetToAnimalY  \\\n",
       "0      -42.772820       43.748974        -0.886454       -49.407187   \n",
       "1      -42.550224       43.525129        -0.844711       -49.184590   \n",
       "2      -42.256644       43.230798        -0.816662       -48.891010   \n",
       "3      -41.960367       42.934455        -0.809830       -48.594734   \n",
       "4      -41.569795       42.545125        -0.841667       -48.204161   \n",
       "...           ...             ...              ...              ...   \n",
       "172877 -25.363831        8.941222       -15.222911        -1.085322   \n",
       "172878 -26.131971        9.217626       -15.156978        -1.853462   \n",
       "172879 -26.906977        9.511755       -15.043168        -2.628468   \n",
       "172880 -27.667596        9.812199       -14.881058        -3.389087   \n",
       "172881 -28.412486       10.123331       -14.702900        -4.133976   \n",
       "\n",
       "        targetToAnimalAngle  cumSumDiffAngleAroundTarget  \n",
       "0                 -1.588736                          NaN  \n",
       "1                 -1.587969                     0.000767  \n",
       "2                 -1.587499                     0.001238  \n",
       "3                 -1.587460                     0.001276  \n",
       "4                 -1.588255                     0.000481  \n",
       "...                     ...                          ...  \n",
       "172877            -3.070418                     4.739598  \n",
       "172878            -3.019912                     4.790103  \n",
       "172879            -2.968611                     4.841405  \n",
       "172880            -2.917667                     4.892349  \n",
       "172881            -2.867502                     4.942514  \n",
       "\n",
       "[172882 rows x 16 columns]"
      ]
     },
     "execution_count": 3,
     "metadata": {},
     "output_type": "execute_result"
    }
   ],
   "source": [
    "fn = ses.path+\"/navPathInstan.csv\"\n",
    "print(\"loading\",fn)\n",
    "pd.read_csv(fn)"
   ]
  },
  {
   "cell_type": "code",
   "execution_count": 4,
   "id": "010c5ff5-047c-47f6-a23f-3225b857e891",
   "metadata": {},
   "outputs": [
    {
     "name": "stdout",
     "output_type": "stream",
     "text": [
      "a: (423299,) 0.01 8465.97\n",
      "pose: (423249, 8) 0.0 8464.96\n",
      "diff: 0.019999999998617568 0.020000000000436557\n"
     ]
    }
   ],
   "source": [
    "sSes.ap.intervals.inter\n",
    "a = np.arange(0.01,8465.98,0.02)\n",
    "print(\"a:\", a.shape,a.min(),a.max())\n",
    "print(\"pose:\",sSes.ap.pose.shape,sSes.ap.pose[:,0].min(),sSes.ap.pose[:,0].max())\n",
    "myDiff = np.diff(a)\n",
    "print(\"diff:\",myDiff.min(),myDiff.max())\n"
   ]
  },
  {
   "cell_type": "markdown",
   "id": "3c3824f3-1d67-4c91-b980-bd9e27044359",
   "metadata": {},
   "source": [
    "We need to set all spike_train objects to the same time interval that covers all values of the AnimalPose.pose. The idea is to get a firing rate estimate for each position data, which are at 50 Hz."
   ]
  },
  {
   "cell_type": "code",
   "execution_count": 5,
   "id": "51e7c081-4706-4ca6-a274-1a2ac5887692",
   "metadata": {},
   "outputs": [],
   "source": [
    "def createInstantaneousFiringRateFile(sSes):\n",
    "    inter = sSes.ap.intervals.inter.copy()\n",
    "    inter[0,0]=0.01 # so that the times of ifr windows matches the ap.pose times\n",
    "    print(inter)\n",
    "    for n in sSes.cg.neuron_list:\n",
    "        n.spike_train.set_intervals(inter)\n",
    "    sSes.cg.instantaneous_firing_rate(bin_size_sec = 0.02, sigma = 1,free_memory=True)\n",
    "    ifr,mids = sSes.cg.ifr\n",
    "        \n",
    "    \n",
    "    myDiff = np.diff(mids)\n",
    "    print(\"time range:\",mids.min(),mids.max())\n",
    "    print(\"time interval min and max:\",myDiff.min(),myDiff.max())\n",
    "    \n",
    "    fn = sSes.path+\"/ifr_autopi.pkl\"\n",
    "    print(\"saving\",fn)\n",
    "    with open(fn, 'wb') as outp:\n",
    "        pickle.dump((ifr,mids), outp, pickle.HIGHEST_PROTOCOL)\n",
    "    # to allow garbage collection, and avoid crashing out of RAM\n",
    "    sSes.cg.ifr = None"
   ]
  },
  {
   "cell_type": "code",
   "execution_count": 6,
   "id": "0e49cfe7-d683-49cd-85b1-c5585faa405a",
   "metadata": {},
   "outputs": [
    {
     "name": "stdout",
     "output_type": "stream",
     "text": [
      "[[1.00000e-02 8.46596e+03]]\n"
     ]
    },
    {
     "name": "stderr",
     "output_type": "stream",
     "text": [
      "57it [00:00, 64.17it/s]\n"
     ]
    },
    {
     "name": "stdout",
     "output_type": "stream",
     "text": [
      "time range: 0.02 8465.96\n",
      "time interval min and max: 0.019999999998617568 0.020000000000436557\n",
      "saving /ext_drives/d80/Jazi_etal_2023_noInter/autopi_ca1/mn9686/mn9686-01112021-0106/ifr_autopi.pkl\n"
     ]
    }
   ],
   "source": [
    "createInstantaneousFiringRateFile(sSes)"
   ]
  },
  {
   "cell_type": "markdown",
   "id": "40b5dc32-cb37-4a0a-b4eb-9ba25ebf4201",
   "metadata": {},
   "source": [
    "## For all the sessions"
   ]
  },
  {
   "cell_type": "code",
   "execution_count": 7,
   "id": "34b13a50-243a-425b-9aca-6737eebf9ac8",
   "metadata": {},
   "outputs": [
    {
     "name": "stdout",
     "output_type": "stream",
     "text": [
      "0 mn5824-20112020-0107\n",
      "[[1.000000e-02 1.026168e+04]]\n"
     ]
    },
    {
     "name": "stderr",
     "output_type": "stream",
     "text": [
      "11it [00:00, 49.43it/s]\n"
     ]
    },
    {
     "name": "stdout",
     "output_type": "stream",
     "text": [
      "time range: 0.02 10261.68\n",
      "time interval min and max: 0.019999999998617568 0.020000000000436557\n",
      "saving /ext_drives/d80/Jazi_etal_2023_noInter/autopi_ca1/mn5824/mn5824-20112020-0107/ifr_autopi.pkl\n",
      "1 mn5824-22112020-0107\n",
      "[[1.0000e-02 1.0229e+04]]\n"
     ]
    },
    {
     "name": "stderr",
     "output_type": "stream",
     "text": [
      "22it [00:00, 53.86it/s]\n"
     ]
    },
    {
     "name": "stdout",
     "output_type": "stream",
     "text": [
      "time range: 0.02 10229.0\n",
      "time interval min and max: 0.019999999998617568 0.020000000000436557\n",
      "saving /ext_drives/d80/Jazi_etal_2023_noInter/autopi_ca1/mn5824/mn5824-22112020-0107/ifr_autopi.pkl\n",
      "2 mn5824-24112020-0107\n",
      "[[1.00000e-02 9.85056e+03]]\n"
     ]
    },
    {
     "name": "stderr",
     "output_type": "stream",
     "text": [
      "7it [00:00, 50.92it/s]"
     ]
    },
    {
     "name": "stdout",
     "output_type": "stream",
     "text": [
      "time range: 0.02 9850.56\n",
      "time interval min and max: 0.019999999998617568 0.020000000000436557\n",
      "saving /ext_drives/d80/Jazi_etal_2023_noInter/autopi_ca1/mn5824/mn5824-24112020-0107/ifr_autopi.pkl\n"
     ]
    },
    {
     "name": "stderr",
     "output_type": "stream",
     "text": [
      "\n"
     ]
    },
    {
     "name": "stdout",
     "output_type": "stream",
     "text": [
      "3 mn5824-02122020-0106\n",
      "[[1.00000e-02 9.62484e+03]]\n"
     ]
    },
    {
     "name": "stderr",
     "output_type": "stream",
     "text": [
      "9it [00:00, 47.02it/s]"
     ]
    },
    {
     "name": "stdout",
     "output_type": "stream",
     "text": [
      "time range: 0.02 9624.84\n",
      "time interval min and max: 0.019999999998617568 0.020000000000436557\n",
      "saving /ext_drives/d80/Jazi_etal_2023_noInter/autopi_ca1/mn5824/mn5824-02122020-0106/ifr_autopi.pkl\n"
     ]
    },
    {
     "name": "stderr",
     "output_type": "stream",
     "text": [
      "\n"
     ]
    },
    {
     "name": "stdout",
     "output_type": "stream",
     "text": [
      "4 mn711-28012021-0106\n",
      "[[1.00000e-02 8.35906e+03]]\n"
     ]
    },
    {
     "name": "stderr",
     "output_type": "stream",
     "text": [
      "10it [00:00, 55.76it/s]"
     ]
    },
    {
     "name": "stdout",
     "output_type": "stream",
     "text": [
      "time range: 0.02 8359.06\n",
      "time interval min and max: 0.019999999998617568 0.020000000000436557\n",
      "saving /ext_drives/d80/Jazi_etal_2023_noInter/autopi_ca1/mn711/mn711-28012021-0106/ifr_autopi.pkl\n"
     ]
    },
    {
     "name": "stderr",
     "output_type": "stream",
     "text": [
      "\n"
     ]
    },
    {
     "name": "stdout",
     "output_type": "stream",
     "text": [
      "5 mn711-30012021-0106\n",
      "[[1.00000e-02 9.62214e+03]]\n"
     ]
    },
    {
     "name": "stderr",
     "output_type": "stream",
     "text": [
      "3it [00:00, 51.43it/s]\n"
     ]
    },
    {
     "name": "stdout",
     "output_type": "stream",
     "text": [
      "time range: 0.02 9622.14\n",
      "time interval min and max: 0.019999999998617568 0.020000000000436557\n",
      "saving /ext_drives/d80/Jazi_etal_2023_noInter/autopi_ca1/mn711/mn711-30012021-0106/ifr_autopi.pkl\n",
      "6 mn711-31012021-0107\n",
      "[[1.000000e-02 1.142944e+04]]\n"
     ]
    },
    {
     "name": "stderr",
     "output_type": "stream",
     "text": [
      "21it [00:00, 37.11it/s]\n"
     ]
    },
    {
     "name": "stdout",
     "output_type": "stream",
     "text": [
      "time range: 0.02 11429.44\n",
      "time interval min and max: 0.019999999998617568 0.020000000000436557\n",
      "saving /ext_drives/d80/Jazi_etal_2023_noInter/autopi_ca1/mn711/mn711-31012021-0107/ifr_autopi.pkl\n",
      "7 mn711-01022021-0107\n",
      "[[1.000000e-02 1.142684e+04]]\n"
     ]
    },
    {
     "name": "stderr",
     "output_type": "stream",
     "text": [
      "24it [00:00, 44.87it/s]\n"
     ]
    },
    {
     "name": "stdout",
     "output_type": "stream",
     "text": [
      "time range: 0.02 11426.84\n",
      "time interval min and max: 0.019999999998617568 0.020000000000436557\n",
      "saving /ext_drives/d80/Jazi_etal_2023_noInter/autopi_ca1/mn711/mn711-01022021-0107/ifr_autopi.pkl\n",
      "8 mn711-02022021-0108\n",
      "[[1.000000e-02 1.203342e+04]]\n"
     ]
    },
    {
     "name": "stderr",
     "output_type": "stream",
     "text": [
      "22it [00:00, 41.56it/s]\n"
     ]
    },
    {
     "name": "stdout",
     "output_type": "stream",
     "text": [
      "time range: 0.02 12033.42\n",
      "time interval min and max: 0.019999999998617568 0.020000000000436557\n",
      "saving /ext_drives/d80/Jazi_etal_2023_noInter/autopi_ca1/mn711/mn711-02022021-0108/ifr_autopi.pkl\n",
      "9 mn711-03022021-0107\n",
      "[[1.000000e-02 1.142948e+04]]\n"
     ]
    },
    {
     "name": "stderr",
     "output_type": "stream",
     "text": [
      "17it [00:00, 44.05it/s]\n"
     ]
    },
    {
     "name": "stdout",
     "output_type": "stream",
     "text": [
      "time range: 0.02 11429.48\n",
      "time interval min and max: 0.019999999998617568 0.020000000000436557\n",
      "saving /ext_drives/d80/Jazi_etal_2023_noInter/autopi_ca1/mn711/mn711-03022021-0107/ifr_autopi.pkl\n",
      "10 mn711-04022021-0107\n",
      "[[1.000000e-02 1.202946e+04]]\n"
     ]
    },
    {
     "name": "stderr",
     "output_type": "stream",
     "text": [
      "22it [00:00, 40.35it/s]\n"
     ]
    },
    {
     "name": "stdout",
     "output_type": "stream",
     "text": [
      "time range: 0.02 12029.46\n",
      "time interval min and max: 0.019999999998617568 0.020000000000436557\n",
      "saving /ext_drives/d80/Jazi_etal_2023_noInter/autopi_ca1/mn711/mn711-04022021-0107/ifr_autopi.pkl\n",
      "11 mn2739-11022021-0107\n",
      "[[1.0000e-02 9.5848e+03]]\n"
     ]
    },
    {
     "name": "stderr",
     "output_type": "stream",
     "text": [
      "7it [00:00, 50.76it/s]"
     ]
    },
    {
     "name": "stdout",
     "output_type": "stream",
     "text": [
      "time range: 0.02 9584.8\n",
      "time interval min and max: 0.019999999998617568 0.020000000000436557\n",
      "saving /ext_drives/d80/Jazi_etal_2023_noInter/autopi_ca1/mn2739/mn2739-11022021-0107/ifr_autopi.pkl\n"
     ]
    },
    {
     "name": "stderr",
     "output_type": "stream",
     "text": [
      "\n"
     ]
    },
    {
     "name": "stdout",
     "output_type": "stream",
     "text": [
      "12 mn2739-15022021-0105\n",
      "[[1.00000e-02 6.69642e+03]]\n"
     ]
    },
    {
     "name": "stderr",
     "output_type": "stream",
     "text": [
      "16it [00:00, 87.78it/s]"
     ]
    },
    {
     "name": "stdout",
     "output_type": "stream",
     "text": [
      "time range: 0.02 6696.42\n",
      "time interval min and max: 0.019999999999527063 0.020000000000436557\n",
      "saving /ext_drives/d80/Jazi_etal_2023_noInter/autopi_ca1/mn2739/mn2739-15022021-0105/ifr_autopi.pkl\n"
     ]
    },
    {
     "name": "stderr",
     "output_type": "stream",
     "text": [
      "\n"
     ]
    },
    {
     "name": "stdout",
     "output_type": "stream",
     "text": [
      "13 mn2739-16022021-0106\n",
      "[[1.0000e-02 8.5312e+03]]\n"
     ]
    },
    {
     "name": "stderr",
     "output_type": "stream",
     "text": [
      "22it [00:00, 63.23it/s]\n"
     ]
    },
    {
     "name": "stdout",
     "output_type": "stream",
     "text": [
      "time range: 0.02 8531.2\n",
      "time interval min and max: 0.019999999998617568 0.020000000000436557\n",
      "saving /ext_drives/d80/Jazi_etal_2023_noInter/autopi_ca1/mn2739/mn2739-16022021-0106/ifr_autopi.pkl\n",
      "14 mn2739-17022021-0106\n",
      "[[1.00000e-02 8.91486e+03]]\n"
     ]
    },
    {
     "name": "stderr",
     "output_type": "stream",
     "text": [
      "16it [00:00, 60.81it/s]\n"
     ]
    },
    {
     "name": "stdout",
     "output_type": "stream",
     "text": [
      "time range: 0.02 8914.86\n",
      "time interval min and max: 0.019999999998617568 0.020000000000436557\n",
      "saving /ext_drives/d80/Jazi_etal_2023_noInter/autopi_ca1/mn2739/mn2739-17022021-0106/ifr_autopi.pkl\n",
      "15 mn2739-21022021-0106\n",
      "[[1.00000e-02 9.59562e+03]]\n"
     ]
    },
    {
     "name": "stderr",
     "output_type": "stream",
     "text": [
      "7it [00:00, 41.80it/s]\n"
     ]
    },
    {
     "name": "stdout",
     "output_type": "stream",
     "text": [
      "time range: 0.02 9595.62\n",
      "time interval min and max: 0.019999999998617568 0.020000000000436557\n",
      "saving /ext_drives/d80/Jazi_etal_2023_noInter/autopi_ca1/mn2739/mn2739-21022021-0106/ifr_autopi.pkl\n",
      "16 mn3246-09042021-0106\n",
      "[[1.000000e-02 1.001206e+04]]\n"
     ]
    },
    {
     "name": "stderr",
     "output_type": "stream",
     "text": [
      "17it [00:00, 54.18it/s]\n"
     ]
    },
    {
     "name": "stdout",
     "output_type": "stream",
     "text": [
      "time range: 0.02 10012.06\n",
      "time interval min and max: 0.019999999998617568 0.020000000000436557\n",
      "saving /ext_drives/d80/Jazi_etal_2023_noInter/autopi_ca1/mn3246/mn3246-09042021-0106/ifr_autopi.pkl\n",
      "17 mn3246-10042021-0106\n",
      "[[1.00000e-02 9.62436e+03]]\n"
     ]
    },
    {
     "name": "stderr",
     "output_type": "stream",
     "text": [
      "25it [00:00, 55.52it/s]\n"
     ]
    },
    {
     "name": "stdout",
     "output_type": "stream",
     "text": [
      "time range: 0.02 9624.36\n",
      "time interval min and max: 0.019999999998617568 0.020000000000436557\n",
      "saving /ext_drives/d80/Jazi_etal_2023_noInter/autopi_ca1/mn3246/mn3246-10042021-0106/ifr_autopi.pkl\n",
      "18 mn3246-12042021-0106\n",
      "[[1.00000e-02 9.50932e+03]]\n"
     ]
    },
    {
     "name": "stderr",
     "output_type": "stream",
     "text": [
      "20it [00:00, 53.95it/s]\n"
     ]
    },
    {
     "name": "stdout",
     "output_type": "stream",
     "text": [
      "time range: 0.02 9509.32\n",
      "time interval min and max: 0.019999999998617568 0.020000000000436557\n",
      "saving /ext_drives/d80/Jazi_etal_2023_noInter/autopi_ca1/mn3246/mn3246-12042021-0106/ifr_autopi.pkl\n",
      "19 mn3246-14042021-0106\n",
      "[[1.00000e-02 9.62462e+03]]\n"
     ]
    },
    {
     "name": "stderr",
     "output_type": "stream",
     "text": [
      "11it [00:00, 52.23it/s]\n"
     ]
    },
    {
     "name": "stdout",
     "output_type": "stream",
     "text": [
      "time range: 0.02 9624.62\n",
      "time interval min and max: 0.019999999998617568 0.020000000000436557\n",
      "saving /ext_drives/d80/Jazi_etal_2023_noInter/autopi_ca1/mn3246/mn3246-14042021-0106/ifr_autopi.pkl\n",
      "20 mn1173-02052021-0107\n",
      "[[1.000000e-02 1.142772e+04]]\n"
     ]
    },
    {
     "name": "stderr",
     "output_type": "stream",
     "text": [
      "26it [00:00, 35.19it/s]\n"
     ]
    },
    {
     "name": "stdout",
     "output_type": "stream",
     "text": [
      "time range: 0.02 11427.72\n",
      "time interval min and max: 0.019999999998617568 0.020000000000436557\n",
      "saving /ext_drives/d80/Jazi_etal_2023_noInter/autopi_ca1/mn1173/mn1173-02052021-0107/ifr_autopi.pkl\n",
      "21 mn1173-06052021-0107\n",
      "[[1.00000e-02 1.02268e+04]]\n"
     ]
    },
    {
     "name": "stderr",
     "output_type": "stream",
     "text": [
      "71it [00:01, 48.09it/s]\n"
     ]
    },
    {
     "name": "stdout",
     "output_type": "stream",
     "text": [
      "time range: 0.02 10226.8\n",
      "time interval min and max: 0.019999999998617568 0.020000000000436557\n",
      "saving /ext_drives/d80/Jazi_etal_2023_noInter/autopi_ca1/mn1173/mn1173-06052021-0107/ifr_autopi.pkl\n",
      "22 mn1173-08052021-0107\n",
      "[[1.00000e-02 1.00306e+04]]\n"
     ]
    },
    {
     "name": "stderr",
     "output_type": "stream",
     "text": [
      "67it [00:01, 50.35it/s]\n"
     ]
    },
    {
     "name": "stdout",
     "output_type": "stream",
     "text": [
      "time range: 0.02 10030.6\n",
      "time interval min and max: 0.019999999998617568 0.020000000000436557\n",
      "saving /ext_drives/d80/Jazi_etal_2023_noInter/autopi_ca1/mn1173/mn1173-08052021-0107/ifr_autopi.pkl\n",
      "23 mn1173-09052021-0108\n",
      "[[1.000000e-02 1.175442e+04]]\n"
     ]
    },
    {
     "name": "stderr",
     "output_type": "stream",
     "text": [
      "42it [00:00, 42.61it/s]\n"
     ]
    },
    {
     "name": "stdout",
     "output_type": "stream",
     "text": [
      "time range: 0.02 11754.42\n",
      "time interval min and max: 0.019999999998617568 0.020000000000436557\n",
      "saving /ext_drives/d80/Jazi_etal_2023_noInter/autopi_ca1/mn1173/mn1173-09052021-0108/ifr_autopi.pkl\n",
      "24 mn1173-11052021-0108\n",
      "[[1.000000e-02 1.030658e+04]]\n"
     ]
    },
    {
     "name": "stderr",
     "output_type": "stream",
     "text": [
      "18it [00:00, 40.61it/s]\n"
     ]
    },
    {
     "name": "stdout",
     "output_type": "stream",
     "text": [
      "time range: 0.02 10306.58\n",
      "time interval min and max: 0.019999999998617568 0.020000000000436557\n",
      "saving /ext_drives/d80/Jazi_etal_2023_noInter/autopi_ca1/mn1173/mn1173-11052021-0108/ifr_autopi.pkl\n",
      "25 TYY9524-16082021-0106\n",
      "[[1.00000e-02 9.68676e+03]]\n"
     ]
    },
    {
     "name": "stderr",
     "output_type": "stream",
     "text": [
      "3it [00:00, 51.46it/s]\n"
     ]
    },
    {
     "name": "stdout",
     "output_type": "stream",
     "text": [
      "time range: 0.02 9686.76\n",
      "time interval min and max: 0.019999999998617568 0.020000000000436557\n",
      "saving /ext_drives/d80/Jazi_etal_2023_noInter/autopi_ca1/TYY9524/TYY9524-16082021-0106/ifr_autopi.pkl\n",
      "26 TYY9524-18082021-0106\n",
      "[[1.00000e-02 9.68522e+03]]\n"
     ]
    },
    {
     "name": "stderr",
     "output_type": "stream",
     "text": [
      "21it [00:00, 40.85it/s]\n"
     ]
    },
    {
     "name": "stdout",
     "output_type": "stream",
     "text": [
      "time range: 0.02 9685.22\n",
      "time interval min and max: 0.019999999998617568 0.020000000000436557\n",
      "saving /ext_drives/d80/Jazi_etal_2023_noInter/autopi_ca1/TYY9524/TYY9524-18082021-0106/ifr_autopi.pkl\n",
      "27 mn5618-07072021-0107\n",
      "[[1.000000e-02 1.008534e+04]]\n"
     ]
    },
    {
     "name": "stderr",
     "output_type": "stream",
     "text": [
      "10it [00:00, 51.39it/s]\n"
     ]
    },
    {
     "name": "stdout",
     "output_type": "stream",
     "text": [
      "time range: 0.02 10085.34\n",
      "time interval min and max: 0.019999999998617568 0.020000000000436557\n",
      "saving /ext_drives/d80/Jazi_etal_2023_noInter/autopi_ca1/mn5618/mn5618-07072021-0107/ifr_autopi.pkl\n",
      "28 mn5618-12072021-0110\n",
      "[[1.000000e-02 1.011462e+04]]\n"
     ]
    },
    {
     "name": "stderr",
     "output_type": "stream",
     "text": [
      "51it [00:01, 44.07it/s]\n"
     ]
    },
    {
     "name": "stdout",
     "output_type": "stream",
     "text": [
      "time range: 0.02 10114.62\n",
      "time interval min and max: 0.019999999998617568 0.020000000000436557\n",
      "saving /ext_drives/d80/Jazi_etal_2023_noInter/autopi_ca1/mn5618/mn5618-12072021-0110/ifr_autopi.pkl\n",
      "29 TYY5622-07092021-0106\n",
      "[[1.0000e-02 9.6783e+03]]\n"
     ]
    },
    {
     "name": "stderr",
     "output_type": "stream",
     "text": [
      "88it [00:01, 51.99it/s]\n"
     ]
    },
    {
     "name": "stdout",
     "output_type": "stream",
     "text": [
      "time range: 0.02 9678.3\n",
      "time interval min and max: 0.019999999998617568 0.020000000000436557\n",
      "saving /ext_drives/d80/Jazi_etal_2023_noInter/autopi_ca1/TYY5622/TYY5622-07092021-0106/ifr_autopi.pkl\n",
      "30 TYY5622-17092021-0106\n",
      "[[1.000e-02 9.687e+03]]\n"
     ]
    },
    {
     "name": "stderr",
     "output_type": "stream",
     "text": [
      "42it [00:00, 47.18it/s]\n"
     ]
    },
    {
     "name": "stdout",
     "output_type": "stream",
     "text": [
      "time range: 0.02 9687.0\n",
      "time interval min and max: 0.019999999998617568 0.020000000000436557\n",
      "saving /ext_drives/d80/Jazi_etal_2023_noInter/autopi_ca1/TYY5622/TYY5622-17092021-0106/ifr_autopi.pkl\n",
      "31 TYY5622-19092021-0106\n",
      "[[1.000e-02 9.682e+03]]\n"
     ]
    },
    {
     "name": "stderr",
     "output_type": "stream",
     "text": [
      "39it [00:00, 53.52it/s]\n"
     ]
    },
    {
     "name": "stdout",
     "output_type": "stream",
     "text": [
      "time range: 0.02 9682.0\n",
      "time interval min and max: 0.019999999998617568 0.020000000000436557\n",
      "saving /ext_drives/d80/Jazi_etal_2023_noInter/autopi_ca1/TYY5622/TYY5622-19092021-0106/ifr_autopi.pkl\n",
      "32 TYY5622-20092021-0106\n",
      "[[1.0000e-02 9.6904e+03]]\n"
     ]
    },
    {
     "name": "stderr",
     "output_type": "stream",
     "text": [
      "26it [00:00, 44.79it/s]\n"
     ]
    },
    {
     "name": "stdout",
     "output_type": "stream",
     "text": [
      "time range: 0.02 9690.4\n",
      "time interval min and max: 0.019999999998617568 0.020000000000436557\n",
      "saving /ext_drives/d80/Jazi_etal_2023_noInter/autopi_ca1/TYY5622/TYY5622-20092021-0106/ifr_autopi.pkl\n",
      "33 mn9686-20102021-0106\n",
      "[[1.00000e-02 9.67754e+03]]\n"
     ]
    },
    {
     "name": "stderr",
     "output_type": "stream",
     "text": [
      "17it [00:00, 39.21it/s]\n"
     ]
    },
    {
     "name": "stdout",
     "output_type": "stream",
     "text": [
      "time range: 0.02 9677.54\n",
      "time interval min and max: 0.019999999998617568 0.020000000000436557\n",
      "saving /ext_drives/d80/Jazi_etal_2023_noInter/autopi_ca1/mn9686/mn9686-20102021-0106/ifr_autopi.pkl\n",
      "34 mn9686-26102021-0106\n",
      "[[1.0000e-02 9.5698e+03]]\n"
     ]
    },
    {
     "name": "stderr",
     "output_type": "stream",
     "text": [
      "21it [00:00, 51.70it/s]\n"
     ]
    },
    {
     "name": "stdout",
     "output_type": "stream",
     "text": [
      "time range: 0.02 9569.8\n",
      "time interval min and max: 0.019999999998617568 0.020000000000436557\n",
      "saving /ext_drives/d80/Jazi_etal_2023_noInter/autopi_ca1/mn9686/mn9686-26102021-0106/ifr_autopi.pkl\n",
      "35 mn9686-27102021-0106\n",
      "[[1.00000e-02 9.18946e+03]]\n"
     ]
    },
    {
     "name": "stderr",
     "output_type": "stream",
     "text": [
      "47it [00:00, 55.16it/s]\n"
     ]
    },
    {
     "name": "stdout",
     "output_type": "stream",
     "text": [
      "time range: 0.02 9189.46\n",
      "time interval min and max: 0.019999999998617568 0.020000000000436557\n",
      "saving /ext_drives/d80/Jazi_etal_2023_noInter/autopi_ca1/mn9686/mn9686-27102021-0106/ifr_autopi.pkl\n",
      "36 mn9686-28102021-0107\n",
      "[[1.000000e-02 1.055598e+04]]\n"
     ]
    },
    {
     "name": "stderr",
     "output_type": "stream",
     "text": [
      "60it [00:01, 52.19it/s]\n"
     ]
    },
    {
     "name": "stdout",
     "output_type": "stream",
     "text": [
      "time range: 0.02 10555.98\n",
      "time interval min and max: 0.019999999998617568 0.020000000000436557\n",
      "saving /ext_drives/d80/Jazi_etal_2023_noInter/autopi_ca1/mn9686/mn9686-28102021-0107/ifr_autopi.pkl\n",
      "37 mn9686-29102021-0106\n",
      "[[1.00000e-02 9.67986e+03]]\n"
     ]
    },
    {
     "name": "stderr",
     "output_type": "stream",
     "text": [
      "65it [00:01, 54.29it/s]\n"
     ]
    },
    {
     "name": "stdout",
     "output_type": "stream",
     "text": [
      "time range: 0.02 9679.86\n",
      "time interval min and max: 0.019999999998617568 0.020000000000436557\n",
      "saving /ext_drives/d80/Jazi_etal_2023_noInter/autopi_ca1/mn9686/mn9686-29102021-0106/ifr_autopi.pkl\n",
      "38 mn9686-01112021-0106\n",
      "[[1.00000e-02 8.46596e+03]]\n"
     ]
    },
    {
     "name": "stderr",
     "output_type": "stream",
     "text": [
      "57it [00:00, 62.07it/s]\n"
     ]
    },
    {
     "name": "stdout",
     "output_type": "stream",
     "text": [
      "time range: 0.02 8465.96\n",
      "time interval min and max: 0.019999999998617568 0.020000000000436557\n",
      "saving /ext_drives/d80/Jazi_etal_2023_noInter/autopi_ca1/mn9686/mn9686-01112021-0106/ifr_autopi.pkl\n"
     ]
    }
   ],
   "source": [
    "for i,sSes in enumerate(sSesList):\n",
    "    print(i,sSes.name)\n",
    "    createInstantaneousFiringRateFile(sSes)"
   ]
  },
  {
   "cell_type": "code",
   "execution_count": null,
   "id": "85e62341-8e18-41be-8169-b934fe042c06",
   "metadata": {},
   "outputs": [],
   "source": []
  }
 ],
 "metadata": {
  "kernelspec": {
   "display_name": "Python [conda env:DEEPLABCUT] *",
   "language": "python",
   "name": "conda-env-DEEPLABCUT-py"
  },
  "language_info": {
   "codemirror_mode": {
    "name": "ipython",
    "version": 3
   },
   "file_extension": ".py",
   "mimetype": "text/x-python",
   "name": "python",
   "nbconvert_exporter": "python",
   "pygments_lexer": "ipython3",
   "version": "3.8.13"
  },
  "widgets": {
   "application/vnd.jupyter.widget-state+json": {
    "state": {},
    "version_major": 2,
    "version_minor": 0
   }
  }
 },
 "nbformat": 4,
 "nbformat_minor": 5
}
