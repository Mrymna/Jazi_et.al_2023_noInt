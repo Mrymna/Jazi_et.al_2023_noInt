{
 "cells": [
  {
   "cell_type": "markdown",
   "id": "1650ba2b-1e55-4fd2-80d6-2c5a8eb40f68",
   "metadata": {},
   "source": [
    "# Lever-center trial unique data\n",
    "\n",
    "We want to get single trials data at the lever.\n",
    "\n",
    "We can use the navPath that includes all the journey with at least a lever press.\n",
    "\n",
    "For each neuron, we want to have a matrix with rate as a function of journey (navPath) characteristics\n",
    "\n",
    "* Distance from lever\n",
    "* Angle from lever to animal when the animal is close to the lever\n",
    "\n",
    "We can then use these matrices to compare activity during trials with accurate and inacurate homing."
   ]
  },
  {
   "cell_type": "code",
   "execution_count": 1,
   "id": "c76f62f6-ba12-459d-8b97-9ff6335e93fd",
   "metadata": {},
   "outputs": [
    {
     "name": "stdout",
     "output_type": "stream",
     "text": [
      "Project name: autopi_ca1\n",
      "dataPath: /ext_drives/d80/Jazi_etal_2023/autopi_ca1\n",
      "Reading /ext_drives/d80/Jazi_etal_2023/autopi_ca1/sessionList\n",
      "We have 39 testing sessions in the list\n",
      "See myProject and sSesList objects\n",
      "Loading Animal_pose and Spike_train, sSes.ap and sSes.cg\n"
     ]
    },
    {
     "name": "stderr",
     "output_type": "stream",
     "text": [
      "100%|███████████████████████████████████████████████████████████████████████████████████████████████████████████████████████████████████████| 39/39 [00:10<00:00,  3.90it/s]"
     ]
    },
    {
     "name": "stdout",
     "output_type": "stream",
     "text": [
      "Loading ses.trial_table_simple as ses.trials\n",
      "Create condition intervals in ses.intervalDict\n"
     ]
    },
    {
     "name": "stderr",
     "output_type": "stream",
     "text": [
      "\n"
     ]
    }
   ],
   "source": [
    "%load_ext autoreload\n",
    "%autoreload 2\n",
    "import os\n",
    "\n",
    "\n",
    "%run ../setup_project.py\n",
    "%run ../neuronAutopi.py\n",
    "\n",
    "prepareSessionsForSpatialAnalysisProject(sSesList,myProject.sessionList,pose_file_extension = \".pose_kf.npy\")"
   ]
  },
  {
   "cell_type": "code",
   "execution_count": 2,
   "id": "2cff067b-3eb6-41b5-a9f4-5918257b1e38",
   "metadata": {},
   "outputs": [
    {
     "name": "stdout",
     "output_type": "stream",
     "text": [
      "Loading: /ext_drives/d80/Jazi_etal_2023_noInter/autopi_ca1/results/myProjectWithTrials.pickle\n",
      "CPU times: user 4.71 s, sys: 1.72 s, total: 6.43 s\n",
      "Wall time: 6.43 s\n"
     ]
    }
   ],
   "source": [
    "%%time\n",
    "myProjectWithTrials = loadMyProjectWithTrials(myProject)"
   ]
  },
  {
   "cell_type": "markdown",
   "id": "8fa22cce-5c32-4c8e-9e41-8b941ee1b295",
   "metadata": {},
   "source": [
    "## Replicate standard map findings\n",
    "\n",
    "We will first calculate a rate-lever_distance histogram and a polar plot of the firing around the lever. \n",
    "\n",
    "We can use this to validate our analysis relative to standard maps."
   ]
  },
  {
   "cell_type": "markdown",
   "id": "bca8917f-29be-4ede-8498-cf8a13c8ff48",
   "metadata": {},
   "source": [
    "We start with a single sesson "
   ]
  },
  {
   "cell_type": "code",
   "execution_count": 3,
   "id": "eff49f32-3286-41f3-8add-fd18c005423f",
   "metadata": {},
   "outputs": [],
   "source": [
    "def rateHistoAroundLever(na,navPathType=\"all\",light=\"light\",nLeverMin=1,behavioralVariable=\"animalAngleFromLever\",maxDistFromLever=15,nBins=36):\n",
    "    \"\"\"\n",
    "    Create a rate x orientation around lever histogram\n",
    "    \n",
    "    The histogram is stored in a dictionary within na\n",
    "    \"\"\"\n",
    "    names = na.getNavPathNames(navPathType=navPathType,light=light,nLeverMin=nLeverMin)\n",
    "    naIfr,naInav = na.getSingleNavPathData(navPathNames=names)\n",
    "    indices =naInav.targetDistance<maxDistFromLever # only keep near the lever\n",
    "    res = stats.binned_statistic(naInav[behavioralVariable][indices],naIfr[indices],bins=np.arange(-np.pi,np.pi,np.pi/nBins))\n",
    "    na.navPathResultsDict[\"histo\"][navPathType+\"_\"+light+\"_\"+behavioralVariable] = {\"histo\":res[0],\"bins\":res[1]}\n"
   ]
  },
  {
   "cell_type": "code",
   "execution_count": 4,
   "id": "bd93968a-857a-49bd-99e4-61601f008173",
   "metadata": {},
   "outputs": [],
   "source": [
    "def leverCenteredIFRMaps(ses,sSes):\n",
    "    #\n",
    "    print(ses.name)\n",
    "    \n",
    "    # load raw data from file\n",
    "    ifr, navs, inav = load_ifr_behavior(ses)\n",
    "    \n",
    "    # create a list of NeuronAutopi object\n",
    "    naList=[]\n",
    "    for i, n in enumerate(sSes.cg.neuron_list):\n",
    "        neuronIndex=i\n",
    "        cluId = sSes.name+\"_\"+n.spike_train.name\n",
    "        na = NeuronAutopi(name = cluId, ifr = (ifr[0][neuronIndex,:],ifr[1]),navPathSummary=navs,iNavPath=inav,trialElectro=ses.trialList[0])\n",
    "        naList.append(na)\n",
    "   \n",
    "    # add a behavioral variable from existing ones\n",
    "    inav[\"animalAngleFromLever\"]=np.arctan2(inav.targetToAnimalY,inav.targetToAnimalX)\n",
    "    \n",
    "    # create the matrix with the rate * lever distance * journey\n",
    "    # create the histogram with rate * lever distance\n",
    "    # create the histogram with rate * orientation around lever\n",
    "    for light in [\"light\",\"dark\"]:\n",
    "        print(\"light:\", light)\n",
    "        for i, na in enumerate(naList):\n",
    "            na.navPathBehavioralMatrix(navPathType=\"all\",light=light,nLeverMin = 1,behavioralVariable = \"targetDistance\",bins=np.arange(0,70,2)) # per journey\n",
    "            na.navPathBehavioralHistogram(navPathType=\"all\",light=light,nLeverMin = 1,behavioralVariable = \"targetDistance\",bins=np.arange(0,40,2)) # all journeys together\n",
    "            rateHistoAroundLever(na,navPathType=\"all\",light=light,nLeverMin=1,behavioralVariable=\"animalAngleFromLever\",maxDistFromLever=15,nBins=36)  \n",
    "\n",
    "    \n",
    "    sesRes={}\n",
    "    for na in naList:\n",
    "        sesRes[na.name] = na.navPathResultsDict\n",
    "    \n",
    "    return sesRes"
   ]
  },
  {
   "cell_type": "code",
   "execution_count": 5,
   "id": "fa123cfe-ccef-4adf-ad20-462c45415511",
   "metadata": {},
   "outputs": [],
   "source": [
    "ses = myProjectWithTrials.sessionList[0]\n",
    "sSes = sSesList[0]"
   ]
  },
  {
   "cell_type": "code",
   "execution_count": 6,
   "id": "25183cf2-0941-43f4-830a-2268a1a6c1c5",
   "metadata": {},
   "outputs": [
    {
     "name": "stdout",
     "output_type": "stream",
     "text": [
      "mn5824-20112020-0107\n",
      "light: light\n",
      "light: dark\n"
     ]
    }
   ],
   "source": [
    "res = leverCenteredIFRMaps(ses,sSes)"
   ]
  },
  {
   "cell_type": "code",
   "execution_count": 7,
   "id": "dd6a7cf7-3120-47a2-b9ac-8556b2e929a8",
   "metadata": {},
   "outputs": [
    {
     "name": "stdout",
     "output_type": "stream",
     "text": [
      "CPU times: user 2 µs, sys: 0 ns, total: 2 µs\n",
      "Wall time: 4.77 µs\n",
      "mn5824-20112020-0107\n",
      "light: light\n",
      "light: dark\n",
      "mn5824-22112020-0107\n",
      "light: light\n",
      "light: dark\n",
      "mn5824-24112020-0107\n",
      "light: light\n",
      "light: dark\n",
      "mn5824-02122020-0106\n",
      "light: light\n",
      "light: dark\n",
      "mn711-28012021-0106\n",
      "light: light\n",
      "light: dark\n",
      "mn711-30012021-0106\n",
      "light: light\n",
      "light: dark\n",
      "mn711-31012021-0107\n",
      "light: light\n",
      "light: dark\n",
      "mn711-01022021-0107\n",
      "light: light\n",
      "light: dark\n",
      "mn711-02022021-0108\n",
      "light: light\n",
      "light: dark\n",
      "mn711-03022021-0107\n",
      "light: light\n",
      "light: dark\n",
      "mn711-04022021-0107\n",
      "light: light\n",
      "light: dark\n",
      "mn2739-11022021-0107\n",
      "light: light\n",
      "light: dark\n",
      "mn2739-15022021-0105\n",
      "light: light\n",
      "light: dark\n",
      "mn2739-16022021-0106\n",
      "light: light\n",
      "light: dark\n",
      "mn2739-17022021-0106\n",
      "light: light\n",
      "light: dark\n",
      "mn2739-21022021-0106\n",
      "light: light\n",
      "light: dark\n",
      "mn3246-09042021-0106\n",
      "light: light\n",
      "light: dark\n",
      "mn3246-10042021-0106\n",
      "light: light\n",
      "light: dark\n",
      "mn3246-12042021-0106\n",
      "light: light\n",
      "light: dark\n",
      "mn3246-14042021-0106\n",
      "light: light\n",
      "light: dark\n",
      "mn1173-02052021-0107\n",
      "light: light\n",
      "light: dark\n",
      "mn1173-06052021-0107\n",
      "light: light\n",
      "light: dark\n",
      "mn1173-08052021-0107\n",
      "light: light\n",
      "light: dark\n",
      "mn1173-09052021-0108\n",
      "light: light\n",
      "light: dark\n",
      "mn1173-11052021-0108\n",
      "light: light\n",
      "light: dark\n",
      "TYY9524-16082021-0106\n",
      "light: light\n",
      "light: dark\n",
      "TYY9524-18082021-0106\n",
      "light: light\n",
      "light: dark\n",
      "mn5618-07072021-0107\n",
      "light: light\n",
      "light: dark\n",
      "mn5618-12072021-0110\n",
      "light: light\n",
      "light: dark\n",
      "TYY5622-07092021-0106\n",
      "light: light\n",
      "light: dark\n",
      "TYY5622-17092021-0106\n",
      "light: light\n",
      "light: dark\n",
      "TYY5622-19092021-0106\n",
      "light: light\n",
      "light: dark\n",
      "TYY5622-20092021-0106\n",
      "light: light\n",
      "light: dark\n",
      "mn9686-20102021-0106\n",
      "light: light\n",
      "light: dark\n",
      "mn9686-26102021-0106\n",
      "light: light\n",
      "light: dark\n",
      "mn9686-27102021-0106\n",
      "light: light\n",
      "light: dark\n",
      "mn9686-28102021-0107\n",
      "light: light\n",
      "light: dark\n",
      "mn9686-29102021-0106\n",
      "light: light\n",
      "light: dark\n",
      "mn9686-01112021-0106\n",
      "light: light\n",
      "light: dark\n"
     ]
    }
   ],
   "source": [
    "%time\n",
    "res = [  leverCenteredIFRMaps(ses,sSes) for ses,sSes in zip(myProjectWithTrials.sessionList[:],sSesList[:])]"
   ]
  },
  {
   "cell_type": "markdown",
   "id": "548895de-4c24-46eb-b025-45a5108c75dc",
   "metadata": {},
   "source": [
    "`res` is a list of dictionaries that we need to merge."
   ]
  },
  {
   "cell_type": "code",
   "execution_count": 8,
   "id": "a502f5a8-b61f-480b-8461-6a65766e0c13",
   "metadata": {},
   "outputs": [
    {
     "name": "stdout",
     "output_type": "stream",
     "text": [
      "Number of neurons: 1080\n"
     ]
    }
   ],
   "source": [
    "newRes={}\n",
    "for d in res:\n",
    "    newRes.update(d)\n",
    "print(\"Number of neurons: {}\".format(len(newRes)))"
   ]
  },
  {
   "cell_type": "code",
   "execution_count": 9,
   "id": "e5f258e8-aa6e-42fa-8307-3ef98039f095",
   "metadata": {},
   "outputs": [
    {
     "name": "stdout",
     "output_type": "stream",
     "text": [
      "saving: /ext_drives/d80/Jazi_etal_2023_noInter/autopi_ca1/results/leverIFRDict.pickle\n"
     ]
    }
   ],
   "source": [
    "fn=myProject.dataPath+\"/results/leverIFRDict.pickle\"\n",
    "print(\"saving:\",fn)\n",
    "with open(fn, 'wb') as handle:\n",
    "    pickle.dump(newRes, handle)"
   ]
  },
  {
   "cell_type": "markdown",
   "id": "9c4f8c50-66ac-4ac7-9b99-ac39aebf5abf",
   "metadata": {},
   "source": [
    "We now have a dictionary with all our neurons."
   ]
  },
  {
   "cell_type": "code",
   "execution_count": null,
   "id": "090d70cb-109b-40c7-a3e6-d2b06ebabc99",
   "metadata": {},
   "outputs": [],
   "source": []
  },
  {
   "cell_type": "code",
   "execution_count": null,
   "id": "49c1cfd4-d932-4044-bea2-9ef4a138839e",
   "metadata": {},
   "outputs": [],
   "source": []
  }
 ],
 "metadata": {
  "kernelspec": {
   "display_name": "DEEPLABCUT",
   "language": "python",
   "name": "deeplabcut"
  },
  "language_info": {
   "codemirror_mode": {
    "name": "ipython",
    "version": 3
   },
   "file_extension": ".py",
   "mimetype": "text/x-python",
   "name": "python",
   "nbconvert_exporter": "python",
   "pygments_lexer": "ipython3",
   "version": "3.8.13"
  },
  "widgets": {
   "application/vnd.jupyter.widget-state+json": {
    "state": {},
    "version_major": 2,
    "version_minor": 0
   }
  }
 },
 "nbformat": 4,
 "nbformat_minor": 5
}
