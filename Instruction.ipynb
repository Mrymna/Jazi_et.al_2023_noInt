{
 "cells": [
  {
   "cell_type": "markdown",
   "id": "6883e139-51a6-4692-9759-61fd269d7e86",
   "metadata": {},
   "source": [
    "### Instruction\n",
    "\n",
    "Please before running any code change dataPath to the relative directory where you cloned the repository in the ```setup_project.py``` \n",
    "\n",
    "1. ```\"/ext_drives/d80/Jazi_etal_2023_noInter/autopi_ca1\"```  to ``` ~.../Jazi_etal_2023_noInter/autopi_ca1```\n",
    "2. In the ```setup_project.py ```, there is a function called ```loadMyProjectWithTrials```. Please update the path of the ```myProjectWithTrials.pickle``` to the relative one on your local computer.  \n",
    "3. figure 1 and 2 contained a code to generate the first two main figures plus the first 3 Extended data figures. \n",
    "4. From figure 3 onward you will find the code to generate the figures related to the electrophysiological experiment.  \n",
    "5. Some  extended data figures were generated in the notebook related to its main figure.\n",
    "5. Have fun!\n",
    "\n"
   ]
  },
  {
   "cell_type": "code",
   "execution_count": null,
   "id": "f9cdd18f-1a16-4c26-8df9-f9accc2f2a42",
   "metadata": {},
   "outputs": [],
   "source": []
  }
 ],
 "metadata": {
  "kernelspec": {
   "display_name": "Python 3 (ipykernel)",
   "language": "python",
   "name": "python3"
  },
  "language_info": {
   "codemirror_mode": {
    "name": "ipython",
    "version": 3
   },
   "file_extension": ".py",
   "mimetype": "text/x-python",
   "name": "python",
   "nbconvert_exporter": "python",
   "pygments_lexer": "ipython3",
   "version": "3.8.13"
  },
  "widgets": {
   "application/vnd.jupyter.widget-state+json": {
    "state": {},
    "version_major": 2,
    "version_minor": 0
   }
  }
 },
 "nbformat": 4,
 "nbformat_minor": 5
}
