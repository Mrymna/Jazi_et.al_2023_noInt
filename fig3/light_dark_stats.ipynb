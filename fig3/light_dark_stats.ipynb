{
 "cells": [
  {
   "cell_type": "markdown",
   "id": "4a04aea8-43f5-4867-8935-4c1699422c25",
   "metadata": {},
   "source": [
    "# Simple place cell statistics for open-field, light and dark trials\n",
    "\n",
    "The spatial maps are calculated and saved in `open_field_light_dark_maps.ipynb`. We won't to this here.\n",
    "\n",
    "We are getting the data in this notebook. The figures will be done in the next notebook."
   ]
  },
  {
   "cell_type": "code",
   "execution_count": 1,
   "id": "a656afec-6636-45a2-9764-c30965a57cbb",
   "metadata": {},
   "outputs": [
    {
     "name": "stdout",
     "output_type": "stream",
     "text": [
      "Project name: autopi_ca1\n",
      "dataPath: /ext_drives/d80/Jazi_etal_2023/autopi_ca1\n",
      "Reading /ext_drives/d80/Jazi_etal_2023/autopi_ca1/sessionList\n",
      "We have 39 testing sessions in the list\n",
      "See myProject and sSesList objects\n",
      "Loading Animal_pose and Spike_train, sSes.ap and sSes.cg\n"
     ]
    },
    {
     "name": "stderr",
     "output_type": "stream",
     "text": [
      "100%|███████████████████████████████████████████████████████████████████████████████████████████████████████████████████████████████████████| 39/39 [00:09<00:00,  4.12it/s]"
     ]
    },
    {
     "name": "stdout",
     "output_type": "stream",
     "text": [
      "Loading ses.trial_table_simple as ses.trials\n",
      "Create condition intervals in ses.intervalDict\n"
     ]
    },
    {
     "name": "stderr",
     "output_type": "stream",
     "text": [
      "\n"
     ]
    }
   ],
   "source": [
    "%load_ext autoreload\n",
    "%autoreload 2\n",
    "%run ../setup_project.py\n",
    "%run ../neuronAutopi.py\n",
    "\n",
    "prepareSessionsForSpatialAnalysisProject(sSesList,myProject.sessionList)"
   ]
  },
  {
   "cell_type": "code",
   "execution_count": 2,
   "id": "c23b01f6-a452-45ac-8316-eb6e3ed79377",
   "metadata": {},
   "outputs": [
    {
     "name": "stderr",
     "output_type": "stream",
     "text": [
      "39it [00:00, 48.52it/s]\n"
     ]
    }
   ],
   "source": [
    "for ses, sSes in tqdm(zip(myProject.sessionList,sSesList)):\n",
    "    getSearchHomingIntervals(ses,sSes)"
   ]
  },
  {
   "cell_type": "markdown",
   "id": "ec9cb323-aaff-4a6a-9061-59cc5332039b",
   "metadata": {},
   "source": [
    "## Mean firing rate and information score per condition\n",
    "\n",
    "We will get mean firing rates and info scores per cell per condition. We return a Pandas DataFrame for each session."
   ]
  },
  {
   "cell_type": "code",
   "execution_count": 3,
   "id": "1c4668fc-bfa8-4f33-a8a6-f7bbee248971",
   "metadata": {},
   "outputs": [],
   "source": [
    "def getMapStats(ses,sSes,interName=\"circ80\",onlyArena=False,conditionName=\"x\"):\n",
    "    \"\"\"\n",
    "    Calculate the mean firing rate of the neuron\n",
    "    \n",
    "    Arguments: \n",
    "    ses: autopipy session\n",
    "    sSes: spikeA session\n",
    "    interName: name of the interval to analyze\n",
    "    onlyArena: remove spatial data points outside the arena\n",
    "    conditionName: condition name for the data frame\n",
    "        \n",
    "    Return:\n",
    "    Pandas DataFrame with cellId,condition,meanRate columns\n",
    "    \"\"\" \n",
    "    \n",
    "    myDict={}\n",
    "    xy_range=np.array([[-50,-90],[50,60]])\n",
    "    \n",
    "    sSes.ap.set_intervals(ses.intervalDict[interName])\n",
    "    \n",
    "    if onlyArena:\n",
    "        # this should come after setting the time intervals, will be reset when calling sSes.ap.set_intervals again\n",
    "        sSes.ap.invalid_outside_spatial_area(environment_shape= \"circle\",radius=43.0,center=np.array([0,0])) ## remove the bridge and homebase\n",
    "    \n",
    "    # set the intervals for each neuron\n",
    "    for n in sSes.cg.neuron_list:\n",
    "        n.spike_train.set_intervals(ses.intervalDict[interName])\n",
    "        \n",
    "        n.spatial_properties.firing_rate_map_2d(cm_per_bin =3, smoothing_sigma_cm = 5, smoothing=True,xy_range=xy_range)\n",
    "        \n",
    "    myDict[\"peakRate\"] = [ np.nanmax(n.spatial_properties.firing_rate_map) for n in sSes.cg.neuron_list] # not affected by onlyArena!!!!\n",
    "    myDict[\"meanRate\"] = [ n.spike_train.mean_firing_rate() for n in sSes.cg.neuron_list]\n",
    "    \n",
    "    for n in sSes.cg.neuron_list:\n",
    "        n.spike_train.set_intervals(ses.intervalDict[interName])\n",
    "        n.spatial_properties.firing_rate_map_2d(cm_per_bin = 3, smoothing=False,xy_range = xy_range) # no smoothing when calculating these maps\n",
    "\n",
    "    myDict[\"info\"] = [ n.spatial_properties.information_score() for n in sSes.cg.neuron_list]\n",
    "    myDict[\"sparsity\"] = [ n.spatial_properties.sparsity_score() for n in sSes.cg.neuron_list]\n",
    "    myDict[\"condition\"] = conditionName    \n",
    "    myDict[\"session\"] = sSes.name\n",
    "    myDict[\"mouse\"] = sSes.subject\n",
    "    myDict[\"cellId\"] = [sSes.name+\"_\"+n.name for n in sSes.cg.neuron_list]\n",
    "        \n",
    "    #create a DataFrame from the dictionary\n",
    "    res = pd.DataFrame(myDict)\n",
    "    return res\n"
   ]
  },
  {
   "cell_type": "markdown",
   "id": "df4a6920-2cf5-4dac-b174-f9dedb3a247f",
   "metadata": {},
   "source": [
    "### One session"
   ]
  },
  {
   "cell_type": "code",
   "execution_count": 4,
   "id": "fcff98d3-93bf-48d8-b997-51ad9038fde5",
   "metadata": {},
   "outputs": [
    {
     "name": "stderr",
     "output_type": "stream",
     "text": [
      "/home/maryam/repo/spikeA/spikeA/Spatial_properties.py:660: RuntimeWarning: invalid value encountered in double_scalars\n",
      "  return 1-(((np.nansum(p*v))**2)/np.nansum(p*(v**2)))\n"
     ]
    }
   ],
   "source": [
    "ses,sSes = list(zip(myProject.sessionList,sSesList))[0]\n",
    "res=getMapStats(ses,sSes,interName=\"circ80\",onlyArena=False,conditionName=\"circ80\")\n"
   ]
  },
  {
   "cell_type": "markdown",
   "id": "734258e5-f008-4e5f-998b-b49b77e85167",
   "metadata": {},
   "source": [
    "### All sessions\n"
   ]
  },
  {
   "cell_type": "code",
   "execution_count": 5,
   "id": "995562a0-da00-47e7-a3c6-96659cd53e33",
   "metadata": {},
   "outputs": [
    {
     "name": "stdout",
     "output_type": "stream",
     "text": [
      "[('circ80', 'circ80', False), ('circ80_1', 'circ80_1', False), ('circ80_2', 'circ80_2', False), ('task', 'task', False), ('task_1', 'task_1', False), ('task_2', 'task_2', False), ('light', 'light', False), ('light_arena', 'light', True), ('dark', 'dark', False), ('dark_arena', 'dark', True), ('light_1', 'light_1', True), ('light_2', 'light_2', True), ('dark_1', 'dark_1', True), ('dark_2', 'dark_2', True), ('all_light', 'all_light', True), ('all_light_1', 'all_light_1', True), ('all_light_2', 'all_light_2', True), ('all_dark', 'all_dark', True), ('all_dark_1', 'all_dark_1', True), ('all_dark_2', 'all_dark_2', True)]\n"
     ]
    }
   ],
   "source": [
    "conditions = [\"circ80\",\"circ80_1\",\"circ80_2\",\"task\",\"task_1\",\"task_2\",\"light\",\"light\",\"dark\",\"dark\",\"light_1\",\"light_2\",\"dark_1\",\"dark_2\",\"all_light\",\"all_light_1\",\"all_light_2\",\"all_dark\",\"all_dark_1\",\"all_dark_2\"]\n",
    "onlyArena = [False,False,False,False,False,False,False,True,False,True,True,True,True,True,True,True,True,True,True,True]\n",
    "keys = [\"circ80\",\"circ80_1\",\"circ80_2\",\"task\",\"task_1\",\"task_2\",\"light\",\"light_arena\",\"dark\",\"dark_arena\",\"light_1\",\"light_2\",\"dark_1\",\"dark_2\",\"all_light\",\"all_light_1\",\"all_light_2\",\"all_dark\",\"all_dark_1\",\"all_dark_2\"]\n",
    "print(list(zip(keys,conditions,onlyArena)))"
   ]
  },
  {
   "cell_type": "code",
   "execution_count": 6,
   "id": "45b0e548-d310-40ed-9b0a-2b6983f636a8",
   "metadata": {},
   "outputs": [
    {
     "name": "stdout",
     "output_type": "stream",
     "text": [
      "circ80 circ80 False\n",
      "circ80_1 circ80_1 False\n"
     ]
    },
    {
     "name": "stderr",
     "output_type": "stream",
     "text": [
      "/home/maryam/repo/spikeA/spikeA/Spatial_properties.py:660: RuntimeWarning: invalid value encountered in double_scalars\n",
      "  return 1-(((np.nansum(p*v))**2)/np.nansum(p*(v**2)))\n"
     ]
    },
    {
     "name": "stdout",
     "output_type": "stream",
     "text": [
      "circ80_2 circ80_2 False\n"
     ]
    },
    {
     "name": "stderr",
     "output_type": "stream",
     "text": [
      "/home/maryam/repo/spikeA/spikeA/Spatial_properties.py:660: RuntimeWarning: invalid value encountered in double_scalars\n",
      "  return 1-(((np.nansum(p*v))**2)/np.nansum(p*(v**2)))\n"
     ]
    },
    {
     "name": "stdout",
     "output_type": "stream",
     "text": [
      "task task False\n"
     ]
    },
    {
     "name": "stderr",
     "output_type": "stream",
     "text": [
      "/home/maryam/repo/spikeA/spikeA/Spatial_properties.py:660: RuntimeWarning: invalid value encountered in double_scalars\n",
      "  return 1-(((np.nansum(p*v))**2)/np.nansum(p*(v**2)))\n"
     ]
    },
    {
     "name": "stdout",
     "output_type": "stream",
     "text": [
      "task_1 task_1 False\n"
     ]
    },
    {
     "name": "stderr",
     "output_type": "stream",
     "text": [
      "/home/maryam/repo/spikeA/spikeA/Spatial_properties.py:660: RuntimeWarning: invalid value encountered in double_scalars\n",
      "  return 1-(((np.nansum(p*v))**2)/np.nansum(p*(v**2)))\n"
     ]
    },
    {
     "name": "stdout",
     "output_type": "stream",
     "text": [
      "task_2 task_2 False\n"
     ]
    },
    {
     "name": "stderr",
     "output_type": "stream",
     "text": [
      "/home/maryam/repo/spikeA/spikeA/Spatial_properties.py:660: RuntimeWarning: invalid value encountered in double_scalars\n",
      "  return 1-(((np.nansum(p*v))**2)/np.nansum(p*(v**2)))\n"
     ]
    },
    {
     "name": "stdout",
     "output_type": "stream",
     "text": [
      "light light False\n"
     ]
    },
    {
     "name": "stderr",
     "output_type": "stream",
     "text": [
      "/home/maryam/repo/spikeA/spikeA/Spatial_properties.py:660: RuntimeWarning: invalid value encountered in double_scalars\n",
      "  return 1-(((np.nansum(p*v))**2)/np.nansum(p*(v**2)))\n"
     ]
    },
    {
     "name": "stdout",
     "output_type": "stream",
     "text": [
      "light_arena light True\n"
     ]
    },
    {
     "name": "stderr",
     "output_type": "stream",
     "text": [
      "/home/maryam/repo/spikeA/spikeA/Spatial_properties.py:660: RuntimeWarning: invalid value encountered in double_scalars\n",
      "  return 1-(((np.nansum(p*v))**2)/np.nansum(p*(v**2)))\n"
     ]
    },
    {
     "name": "stdout",
     "output_type": "stream",
     "text": [
      "dark dark False\n"
     ]
    },
    {
     "name": "stderr",
     "output_type": "stream",
     "text": [
      "/home/maryam/repo/spikeA/spikeA/Spatial_properties.py:660: RuntimeWarning: invalid value encountered in double_scalars\n",
      "  return 1-(((np.nansum(p*v))**2)/np.nansum(p*(v**2)))\n"
     ]
    },
    {
     "name": "stdout",
     "output_type": "stream",
     "text": [
      "dark_arena dark True\n"
     ]
    },
    {
     "name": "stderr",
     "output_type": "stream",
     "text": [
      "/home/maryam/repo/spikeA/spikeA/Spatial_properties.py:660: RuntimeWarning: invalid value encountered in double_scalars\n",
      "  return 1-(((np.nansum(p*v))**2)/np.nansum(p*(v**2)))\n"
     ]
    },
    {
     "name": "stdout",
     "output_type": "stream",
     "text": [
      "light_1 light_1 True\n"
     ]
    },
    {
     "name": "stderr",
     "output_type": "stream",
     "text": [
      "/home/maryam/repo/spikeA/spikeA/Spatial_properties.py:660: RuntimeWarning: invalid value encountered in double_scalars\n",
      "  return 1-(((np.nansum(p*v))**2)/np.nansum(p*(v**2)))\n"
     ]
    },
    {
     "name": "stdout",
     "output_type": "stream",
     "text": [
      "light_2 light_2 True\n"
     ]
    },
    {
     "name": "stderr",
     "output_type": "stream",
     "text": [
      "/home/maryam/repo/spikeA/spikeA/Spatial_properties.py:660: RuntimeWarning: invalid value encountered in double_scalars\n",
      "  return 1-(((np.nansum(p*v))**2)/np.nansum(p*(v**2)))\n"
     ]
    },
    {
     "name": "stdout",
     "output_type": "stream",
     "text": [
      "dark_1 dark_1 True\n"
     ]
    },
    {
     "name": "stderr",
     "output_type": "stream",
     "text": [
      "/home/maryam/repo/spikeA/spikeA/Spatial_properties.py:660: RuntimeWarning: invalid value encountered in double_scalars\n",
      "  return 1-(((np.nansum(p*v))**2)/np.nansum(p*(v**2)))\n"
     ]
    },
    {
     "name": "stdout",
     "output_type": "stream",
     "text": [
      "dark_2 dark_2 True\n"
     ]
    },
    {
     "name": "stderr",
     "output_type": "stream",
     "text": [
      "/home/maryam/repo/spikeA/spikeA/Spatial_properties.py:660: RuntimeWarning: invalid value encountered in double_scalars\n",
      "  return 1-(((np.nansum(p*v))**2)/np.nansum(p*(v**2)))\n"
     ]
    },
    {
     "name": "stdout",
     "output_type": "stream",
     "text": [
      "all_light all_light True\n"
     ]
    },
    {
     "name": "stderr",
     "output_type": "stream",
     "text": [
      "/home/maryam/repo/spikeA/spikeA/Spatial_properties.py:660: RuntimeWarning: invalid value encountered in double_scalars\n",
      "  return 1-(((np.nansum(p*v))**2)/np.nansum(p*(v**2)))\n"
     ]
    },
    {
     "name": "stdout",
     "output_type": "stream",
     "text": [
      "all_light_1 all_light_1 True\n"
     ]
    },
    {
     "name": "stderr",
     "output_type": "stream",
     "text": [
      "/home/maryam/repo/spikeA/spikeA/Spatial_properties.py:660: RuntimeWarning: invalid value encountered in double_scalars\n",
      "  return 1-(((np.nansum(p*v))**2)/np.nansum(p*(v**2)))\n"
     ]
    },
    {
     "name": "stdout",
     "output_type": "stream",
     "text": [
      "all_light_2 all_light_2 True\n"
     ]
    },
    {
     "name": "stderr",
     "output_type": "stream",
     "text": [
      "/home/maryam/repo/spikeA/spikeA/Spatial_properties.py:660: RuntimeWarning: invalid value encountered in double_scalars\n",
      "  return 1-(((np.nansum(p*v))**2)/np.nansum(p*(v**2)))\n"
     ]
    },
    {
     "name": "stdout",
     "output_type": "stream",
     "text": [
      "all_dark all_dark True\n"
     ]
    },
    {
     "name": "stderr",
     "output_type": "stream",
     "text": [
      "/home/maryam/repo/spikeA/spikeA/Spatial_properties.py:660: RuntimeWarning: invalid value encountered in double_scalars\n",
      "  return 1-(((np.nansum(p*v))**2)/np.nansum(p*(v**2)))\n"
     ]
    },
    {
     "name": "stdout",
     "output_type": "stream",
     "text": [
      "all_dark_1 all_dark_1 True\n"
     ]
    },
    {
     "name": "stderr",
     "output_type": "stream",
     "text": [
      "/home/maryam/repo/spikeA/spikeA/Spatial_properties.py:660: RuntimeWarning: invalid value encountered in double_scalars\n",
      "  return 1-(((np.nansum(p*v))**2)/np.nansum(p*(v**2)))\n"
     ]
    },
    {
     "name": "stdout",
     "output_type": "stream",
     "text": [
      "all_dark_2 all_dark_2 True\n"
     ]
    },
    {
     "name": "stderr",
     "output_type": "stream",
     "text": [
      "/home/maryam/repo/spikeA/spikeA/Spatial_properties.py:660: RuntimeWarning: invalid value encountered in double_scalars\n",
      "  return 1-(((np.nansum(p*v))**2)/np.nansum(p*(v**2)))\n"
     ]
    },
    {
     "name": "stdout",
     "output_type": "stream",
     "text": [
      "CPU times: user 13min 56s, sys: 1min 1s, total: 14min 57s\n",
      "Wall time: 14min 57s\n"
     ]
    }
   ],
   "source": [
    "%%time\n",
    "dfMapStats=pd.DataFrame()\n",
    "for key,cond,onlyA in zip(keys,conditions,onlyArena):\n",
    "    print(key,cond,onlyA)\n",
    "    condDf = pd.concat([getMapStats(ses,sSes,cond,onlyA,key) for ses,sSes in zip(myProject.sessionList,sSesList)])\n",
    "    dfMapStats = pd.concat([dfMapStats,condDf])"
   ]
  },
  {
   "cell_type": "code",
   "execution_count": 7,
   "id": "216e717a-2a60-4588-a5f4-4f12a685db16",
   "metadata": {},
   "outputs": [
    {
     "name": "stdout",
     "output_type": "stream",
     "text": [
      "/ext_drives/d80/Jazi_etal_2023_noInter/autopi_ca1/results/myMapStats.csv\n"
     ]
    }
   ],
   "source": [
    "fn=myProject.dataPath+\"/results/myMapStats.csv\"\n",
    "print(fn)\n",
    "dfMapStats.to_csv(fn,index=False)"
   ]
  },
  {
   "cell_type": "code",
   "execution_count": 8,
   "id": "393e2c07-7856-4a21-9e6c-055910d4d860",
   "metadata": {},
   "outputs": [
    {
     "name": "stdout",
     "output_type": "stream",
     "text": [
      "we are here!\n"
     ]
    }
   ],
   "source": [
    "print('we are here!')"
   ]
  },
  {
   "cell_type": "markdown",
   "id": "81cc710b-53ab-4392-9d1f-9bd3c3d38110",
   "metadata": {},
   "source": [
    "# Map similarity for a single neuron across conditions\n",
    "\n",
    "We can calculate the correlations between firing rate maps.\n"
   ]
  },
  {
   "cell_type": "code",
   "execution_count": 9,
   "id": "ee00809d-fe6c-487f-91e0-f64b1dfaef53",
   "metadata": {},
   "outputs": [],
   "source": [
    "from scipy.stats import pearsonr\n",
    "def map_cor(a,b):\n",
    "    \"\"\"\n",
    "    Correlation coefficient between two firing rate maps\n",
    "    \n",
    "    Arguments:\n",
    "    a: 2D np.array (map1)\n",
    "    b: 2D np.array (map2)\n",
    "    \n",
    "    Returns:\n",
    "    Pearson correlation coefficient between a and b\n",
    "    \"\"\"\n",
    "    a = a.flatten()\n",
    "    b = b.flatten()\n",
    "    indices = np.logical_and(~np.isnan(a), ~np.isnan(b))\n",
    "    if np.sum(indices)<2:\n",
    "        return np.nan\n",
    "    r,p = pearsonr(a[indices],b[indices])\n",
    "    return r"
   ]
  },
  {
   "cell_type": "code",
   "execution_count": 10,
   "id": "2fabd68e-f042-4495-94bd-2ac9b945df1a",
   "metadata": {},
   "outputs": [],
   "source": [
    "fn =myProject.dataPath+\"/results/myMaps.pickle\" #, dictionary with key per condition\n",
    "with open(fn, 'rb') as handle:\n",
    "    myMaps = pickle.load(handle)"
   ]
  },
  {
   "cell_type": "code",
   "execution_count": 11,
   "id": "22f5ed3b-d4c8-469d-a5e4-ff655d79f8ea",
   "metadata": {},
   "outputs": [
    {
     "data": {
      "text/plain": [
       "dict_keys(['circ80', 'circ80_1', 'circ80_2', 'task', 'task_1', 'task_2', 'light', 'light_arena', 'dark', 'dark_arena', 'light_1', 'light_2', 'dark_1', 'dark_2', 'all_light', 'all_light_1', 'all_light_2', 'all_dark', 'all_dark_1', 'all_dark_2'])"
      ]
     },
     "execution_count": 11,
     "metadata": {},
     "output_type": "execute_result"
    }
   ],
   "source": [
    "myMaps.keys()"
   ]
  },
  {
   "cell_type": "code",
   "execution_count": 12,
   "id": "533a3dd1-937e-4dfd-954b-aa5a3e8215dd",
   "metadata": {},
   "outputs": [
    {
     "data": {
      "text/plain": [
       "[('circ80_1', 'circ80_2', 'oo'),\n",
       " ('task_1', 'task_2', 'tt'),\n",
       " ('circ80', 'task', 'ot'),\n",
       " ('all_light', 'all_dark', 'ld'),\n",
       " ('circ80', 'all_light', 'ol'),\n",
       " ('circ80', 'all_dark', 'od'),\n",
       " ('all_light_1', 'all_light_2', 'll'),\n",
       " ('all_dark_1', 'all_dark_2', 'dd')]"
      ]
     },
     "execution_count": 12,
     "metadata": {},
     "output_type": "execute_result"
    }
   ],
   "source": [
    "env1 = [\"circ80_1\",\"task_1\",\"circ80\",\"all_light\",\"circ80\",\"circ80\",\"all_light_1\",\"all_dark_1\"]\n",
    "env2 = [\"circ80_2\",\"task_2\",\"task\",\"all_dark\",\"all_light\",\"all_dark\", \"all_light_2\",\"all_dark_2\"]\n",
    "condNames = [\"oo\",\"tt\",\"ot\",\"ld\",\"ol\",\"od\",\"ll\",\"dd\"]\n",
    "list(zip(env1,env2,condNames))"
   ]
  },
  {
   "cell_type": "code",
   "execution_count": 13,
   "id": "1bf20d64-5d94-4a10-a3ac-5983d5893be8",
   "metadata": {},
   "outputs": [
    {
     "name": "stdout",
     "output_type": "stream",
     "text": [
      "circ80_1 circ80_2 oo\n",
      "task_1 task_2 tt\n",
      "circ80 task ot\n"
     ]
    },
    {
     "name": "stderr",
     "output_type": "stream",
     "text": [
      "/home/maryam/anaconda3/envs/DEEPLABCUT/lib/python3.8/site-packages/scipy/stats/_stats_py.py:4427: ConstantInputWarning: An input array is constant; the correlation coefficient is not defined.\n",
      "  warnings.warn(stats.ConstantInputWarning(msg))\n"
     ]
    },
    {
     "name": "stdout",
     "output_type": "stream",
     "text": [
      "all_light all_dark ld\n",
      "circ80 all_light ol\n",
      "circ80 all_dark od\n"
     ]
    },
    {
     "name": "stderr",
     "output_type": "stream",
     "text": [
      "/home/maryam/anaconda3/envs/DEEPLABCUT/lib/python3.8/site-packages/scipy/stats/_stats_py.py:4427: ConstantInputWarning: An input array is constant; the correlation coefficient is not defined.\n",
      "  warnings.warn(stats.ConstantInputWarning(msg))\n",
      "/home/maryam/anaconda3/envs/DEEPLABCUT/lib/python3.8/site-packages/scipy/stats/_stats_py.py:4427: ConstantInputWarning: An input array is constant; the correlation coefficient is not defined.\n",
      "  warnings.warn(stats.ConstantInputWarning(msg))\n",
      "/home/maryam/anaconda3/envs/DEEPLABCUT/lib/python3.8/site-packages/scipy/stats/_stats_py.py:4427: ConstantInputWarning: An input array is constant; the correlation coefficient is not defined.\n",
      "  warnings.warn(stats.ConstantInputWarning(msg))\n"
     ]
    },
    {
     "name": "stdout",
     "output_type": "stream",
     "text": [
      "all_light_1 all_light_2 ll\n",
      "all_dark_1 all_dark_2 dd\n"
     ]
    },
    {
     "name": "stderr",
     "output_type": "stream",
     "text": [
      "/home/maryam/anaconda3/envs/DEEPLABCUT/lib/python3.8/site-packages/scipy/stats/_stats_py.py:4427: ConstantInputWarning: An input array is constant; the correlation coefficient is not defined.\n",
      "  warnings.warn(stats.ConstantInputWarning(msg))\n",
      "/home/maryam/anaconda3/envs/DEEPLABCUT/lib/python3.8/site-packages/scipy/stats/_stats_py.py:4427: ConstantInputWarning: An input array is constant; the correlation coefficient is not defined.\n",
      "  warnings.warn(stats.ConstantInputWarning(msg))\n"
     ]
    }
   ],
   "source": [
    "mapCorDf = pd.DataFrame()\n",
    "nCells=myMaps[\"circ80\"].shape[0]\n",
    "for e1,e2,c in zip(env1,env2,condNames):\n",
    "    print(e1,e2,c)\n",
    "    correlation  = [ map_cor(myMaps[e1][i],myMaps[e2][i]) for i in range(nCells) ]\n",
    "    df1 = pd.DataFrame({\"condition\":c,\n",
    "                       \"r\":correlation})\n",
    "    mapCorDf = pd.concat([mapCorDf,df1])"
   ]
  },
  {
   "cell_type": "code",
   "execution_count": 14,
   "id": "0b8d08d5-e776-4aa0-bd95-99e180906927",
   "metadata": {},
   "outputs": [
    {
     "data": {
      "text/html": [
       "<div>\n",
       "<style scoped>\n",
       "    .dataframe tbody tr th:only-of-type {\n",
       "        vertical-align: middle;\n",
       "    }\n",
       "\n",
       "    .dataframe tbody tr th {\n",
       "        vertical-align: top;\n",
       "    }\n",
       "\n",
       "    .dataframe thead th {\n",
       "        text-align: right;\n",
       "    }\n",
       "</style>\n",
       "<table border=\"1\" class=\"dataframe\">\n",
       "  <thead>\n",
       "    <tr style=\"text-align: right;\">\n",
       "      <th></th>\n",
       "      <th>condition</th>\n",
       "      <th>r</th>\n",
       "    </tr>\n",
       "  </thead>\n",
       "  <tbody>\n",
       "    <tr>\n",
       "      <th>0</th>\n",
       "      <td>oo</td>\n",
       "      <td>0.573875</td>\n",
       "    </tr>\n",
       "    <tr>\n",
       "      <th>1</th>\n",
       "      <td>oo</td>\n",
       "      <td>0.502913</td>\n",
       "    </tr>\n",
       "    <tr>\n",
       "      <th>2</th>\n",
       "      <td>oo</td>\n",
       "      <td>0.854963</td>\n",
       "    </tr>\n",
       "    <tr>\n",
       "      <th>3</th>\n",
       "      <td>oo</td>\n",
       "      <td>NaN</td>\n",
       "    </tr>\n",
       "    <tr>\n",
       "      <th>4</th>\n",
       "      <td>oo</td>\n",
       "      <td>0.902165</td>\n",
       "    </tr>\n",
       "    <tr>\n",
       "      <th>...</th>\n",
       "      <td>...</td>\n",
       "      <td>...</td>\n",
       "    </tr>\n",
       "    <tr>\n",
       "      <th>1075</th>\n",
       "      <td>dd</td>\n",
       "      <td>0.155251</td>\n",
       "    </tr>\n",
       "    <tr>\n",
       "      <th>1076</th>\n",
       "      <td>dd</td>\n",
       "      <td>0.837723</td>\n",
       "    </tr>\n",
       "    <tr>\n",
       "      <th>1077</th>\n",
       "      <td>dd</td>\n",
       "      <td>0.333613</td>\n",
       "    </tr>\n",
       "    <tr>\n",
       "      <th>1078</th>\n",
       "      <td>dd</td>\n",
       "      <td>0.823293</td>\n",
       "    </tr>\n",
       "    <tr>\n",
       "      <th>1079</th>\n",
       "      <td>dd</td>\n",
       "      <td>0.816657</td>\n",
       "    </tr>\n",
       "  </tbody>\n",
       "</table>\n",
       "<p>8640 rows × 2 columns</p>\n",
       "</div>"
      ],
      "text/plain": [
       "     condition         r\n",
       "0           oo  0.573875\n",
       "1           oo  0.502913\n",
       "2           oo  0.854963\n",
       "3           oo       NaN\n",
       "4           oo  0.902165\n",
       "...        ...       ...\n",
       "1075        dd  0.155251\n",
       "1076        dd  0.837723\n",
       "1077        dd  0.333613\n",
       "1078        dd  0.823293\n",
       "1079        dd  0.816657\n",
       "\n",
       "[8640 rows x 2 columns]"
      ]
     },
     "execution_count": 14,
     "metadata": {},
     "output_type": "execute_result"
    }
   ],
   "source": [
    "mapCorDf"
   ]
  },
  {
   "cell_type": "markdown",
   "id": "f95ec410-4bc4-4c05-bf57-ccbc1a3a5a09",
   "metadata": {},
   "source": [
    "### Save the DataFrame\n"
   ]
  },
  {
   "cell_type": "code",
   "execution_count": 15,
   "id": "6b044d57-88b9-4d77-b3ce-1bbdd8c31dff",
   "metadata": {},
   "outputs": [
    {
     "name": "stdout",
     "output_type": "stream",
     "text": [
      "Saving to /ext_drives/d80/Jazi_etal_2023_noInter/autopi_ca1/results/mapCorDf.csv\n"
     ]
    }
   ],
   "source": [
    "fn=myProject.dataPath+\"/results/mapCorDf.csv\"\n",
    "print(\"Saving to\",fn)\n",
    "mapCorDf.to_csv(fn,index=False)"
   ]
  },
  {
   "cell_type": "code",
   "execution_count": null,
   "id": "a43be986-dde0-4325-9cd9-4e70017afc82",
   "metadata": {},
   "outputs": [],
   "source": []
  }
 ],
 "metadata": {
  "kernelspec": {
   "display_name": "Python [conda env:DEEPLABCUT] *",
   "language": "python",
   "name": "conda-env-DEEPLABCUT-py"
  },
  "language_info": {
   "codemirror_mode": {
    "name": "ipython",
    "version": 3
   },
   "file_extension": ".py",
   "mimetype": "text/x-python",
   "name": "python",
   "nbconvert_exporter": "python",
   "pygments_lexer": "ipython3",
   "version": "3.8.13"
  },
  "widgets": {
   "application/vnd.jupyter.widget-state+json": {
    "state": {},
    "version_major": 2,
    "version_minor": 0
   }
  }
 },
 "nbformat": 4,
 "nbformat_minor": 5
}
