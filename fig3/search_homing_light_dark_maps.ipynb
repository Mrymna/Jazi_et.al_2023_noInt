{
 "cells": [
  {
   "cell_type": "markdown",
   "id": "6255ee2e-225f-4ef4-b867-444fb96f4764",
   "metadata": {
    "tags": []
   },
   "source": [
    "# Maps of the search and homing path for light and dark trials\n",
    "\n"
   ]
  },
  {
   "cell_type": "code",
   "execution_count": 1,
   "id": "2b7cde4b-739a-46cf-a6f8-6862cb754353",
   "metadata": {
    "tags": []
   },
   "outputs": [
    {
     "name": "stdout",
     "output_type": "stream",
     "text": [
      "Project name: autopi_ca1\n",
      "dataPath: /ext_drives/d80/Jazi_etal_2023_noInter/autopi_ca1\n",
      "dlcModelPath: /adata/models\n",
      "Reading /ext_drives/d80/Jazi_etal_2023_noInter/autopi_ca1/sessionList\n",
      "We have 39 testing sessions in the list\n",
      "See myProject and sSesList objects\n",
      "Loading Animal_pose and Spike_train, sSes.ap and sSes.cg\n"
     ]
    },
    {
     "name": "stderr",
     "output_type": "stream",
     "text": [
      "100%|█████████████████████████████████████████████████████████████████████████████████████████████████████| 39/39 [00:08<00:00,  4.36it/s]"
     ]
    },
    {
     "name": "stdout",
     "output_type": "stream",
     "text": [
      "Loading ses.trial_table_simple as ses.trials\n",
      "Create condition intervals in ses.intervalDict\n"
     ]
    },
    {
     "name": "stderr",
     "output_type": "stream",
     "text": [
      "\n"
     ]
    }
   ],
   "source": [
    "%load_ext autoreload\n",
    "%autoreload 2\n",
    "\n",
    "%run ~/repo/autopi_analysis_bk/Jazi_et.al_2023_noInt/setup_project.py\n",
    "%run ~/repo/autopi_analysis_bk/Jazi_et.al_2023_noInt/neuronAutopi.py\n",
    "\n",
    "\n",
    "prepareSessionsForSpatialAnalysisProject(sSesList,myProject.sessionList,pose_file_extension = \".pose_kf.npy\" )"
   ]
  },
  {
   "cell_type": "markdown",
   "id": "3b4369a5-992f-46f8-9961-b3f313f73a88",
   "metadata": {},
   "source": [
    "Get intervals for the search and homing paths"
   ]
  },
  {
   "cell_type": "code",
   "execution_count": 2,
   "id": "6247f9ba-2f2d-488c-af22-d1c670237ea7",
   "metadata": {
    "tags": []
   },
   "outputs": [
    {
     "name": "stderr",
     "output_type": "stream",
     "text": [
      "39it [00:00, 48.37it/s]\n"
     ]
    }
   ],
   "source": [
    "for ses, sSes in tqdm(zip(myProject.sessionList,sSesList)):\n",
    "    getSearchHomingIntervals(ses,sSes)"
   ]
  },
  {
   "cell_type": "code",
   "execution_count": 3,
   "id": "21cfe84f-6485-492c-bfd8-0110b56fb831",
   "metadata": {
    "tags": []
   },
   "outputs": [],
   "source": [
    "def getMaps(ses,sSes,onlyArena=False):\n",
    "    \"\"\"\n",
    "    Get all the maps of the data within the intervals of interest\n",
    "    \"\"\"\n",
    "    \n",
    "    \n",
    "    xy_range=np.array([[-50,-90],[50,60]])\n",
    "    \n",
    "    # get all the conditions we are interested\n",
    "    conditionDicts = [{\"type\" : \"searchToLeverPath\", \"light\" : \"light\"},\n",
    "                      {\"type\" : \"searchToLeverPath\", \"light\" : \"light_1\"},\n",
    "                      {\"type\" : \"searchToLeverPath\", \"light\" : \"light_2\"},\n",
    "                      {\"type\" : \"searchToLeverPath\", \"light\" : \"dark\"},\n",
    "                      {\"type\" : \"searchToLeverPath\", \"light\" : \"dark_1\"},\n",
    "                      {\"type\" : \"searchToLeverPath\", \"light\" : \"dark_2\"},\n",
    "                      {\"type\" : \"homingFromLeavingLever\", \"light\" : \"light\"},\n",
    "                      {\"type\" : \"homingFromLeavingLever\", \"light\" : \"light_1\"},\n",
    "                      {\"type\" : \"homingFromLeavingLever\", \"light\" : \"light_2\"},\n",
    "                      {\"type\" : \"homingFromLeavingLever\", \"light\" : \"dark\"},\n",
    "                      {\"type\" : \"homingFromLeavingLever\", \"light\" : \"dark_1\"},\n",
    "                      {\"type\" : \"homingFromLeavingLever\", \"light\" : \"dark_2\"}]\n",
    "\n",
    "    res = {}\n",
    "    for d in conditionDicts:\n",
    "    \n",
    "        navPathType= d[\"type\"]\n",
    "        light = d[\"light\"]\n",
    "        inter = ses.intervalDict[navPathType+\"_\"+light]\n",
    "\n",
    "        sSes.ap.set_intervals(inter)\n",
    "        \n",
    "        if onlyArena:\n",
    "            # this should come after setting the time intervals, will be reset when calling sSes.ap.set_intervals again\n",
    "            sSes.ap.invalid_outside_spatial_area(shape=\"circle\",radius=43.0,center=np.array([0,0])) ## remove the bridge and homebase\n",
    "\n",
    "        for n in sSes.cg.neuron_list:\n",
    "            n.spike_train.set_intervals(inter)\n",
    "            n.spatial_properties.firing_rate_map_2d(cm_per_bin =3, smoothing_sigma_cm = 5, smoothing=True,xy_range=xy_range)\n",
    "    \n",
    "        mapList = [ n.spatial_properties.firing_rate_map for n in sSes.cg.neuron_list ]\n",
    "        mapStack = np.stack(mapList, axis=0)\n",
    "        res[navPathType+\"_\"+light]=mapStack\n",
    "        \n",
    "    # reset to original intervals\n",
    "    sSes.ap.unset_intervals()\n",
    "        \n",
    "    return res"
   ]
  },
  {
   "cell_type": "markdown",
   "id": "4a19893b-1bcb-4103-9675-ba093ac72582",
   "metadata": {},
   "source": [
    "## Try out on one session"
   ]
  },
  {
   "cell_type": "code",
   "execution_count": 4,
   "id": "ffd55428-4a92-473a-8995-358fe698847c",
   "metadata": {
    "tags": []
   },
   "outputs": [],
   "source": [
    "ses = myProject.sessionList[1]\n",
    "sSes = sSesList[1]"
   ]
  },
  {
   "cell_type": "code",
   "execution_count": 5,
   "id": "94fa4b1e-f931-4169-a335-671d5b304760",
   "metadata": {
    "tags": []
   },
   "outputs": [],
   "source": [
    "res = getMaps(ses,sSes)"
   ]
  },
  {
   "cell_type": "markdown",
   "id": "89c71ac6-7ad2-4767-bb6f-1d8366137f70",
   "metadata": {},
   "source": [
    "## Run on all sessions"
   ]
  },
  {
   "cell_type": "code",
   "execution_count": 6,
   "id": "db69751c-a0f8-4781-b418-6a85b6446887",
   "metadata": {
    "tags": []
   },
   "outputs": [
    {
     "name": "stderr",
     "output_type": "stream",
     "text": [
      "39it [05:15,  8.09s/it]\n"
     ]
    }
   ],
   "source": [
    "res = [ getMaps(ses,sSes) for ses, sSes in tqdm(zip(myProject.sessionList,sSesList))]"
   ]
  },
  {
   "cell_type": "markdown",
   "id": "6d14d341-c9ee-4374-b17b-70befe460de1",
   "metadata": {},
   "source": [
    "Restructure the results to get one stack of maps per condition."
   ]
  },
  {
   "cell_type": "code",
   "execution_count": 7,
   "id": "fb826302-3f54-446e-b353-626e3ff70dd0",
   "metadata": {
    "tags": []
   },
   "outputs": [],
   "source": [
    "newRes = {}\n",
    "for k in res[0].keys():\n",
    "    newRes[k] = np.concatenate([d[k] for d in res])"
   ]
  },
  {
   "cell_type": "code",
   "execution_count": 8,
   "id": "7545fd35-07aa-44a7-b62d-36a8cbb9348b",
   "metadata": {
    "tags": []
   },
   "outputs": [
    {
     "name": "stdout",
     "output_type": "stream",
     "text": [
      "searchToLeverPath_light (1080, 34, 50)\n",
      "searchToLeverPath_light_1 (1080, 34, 50)\n",
      "searchToLeverPath_light_2 (1080, 34, 50)\n",
      "searchToLeverPath_dark (1080, 34, 50)\n",
      "searchToLeverPath_dark_1 (1080, 34, 50)\n",
      "searchToLeverPath_dark_2 (1080, 34, 50)\n",
      "homingFromLeavingLever_light (1080, 34, 50)\n",
      "homingFromLeavingLever_light_1 (1080, 34, 50)\n",
      "homingFromLeavingLever_light_2 (1080, 34, 50)\n",
      "homingFromLeavingLever_dark (1080, 34, 50)\n",
      "homingFromLeavingLever_dark_1 (1080, 34, 50)\n",
      "homingFromLeavingLever_dark_2 (1080, 34, 50)\n"
     ]
    }
   ],
   "source": [
    "for k in newRes.keys():\n",
    "    print(k,newRes[k].shape)"
   ]
  },
  {
   "cell_type": "code",
   "execution_count": 9,
   "id": "1345eed0-75b5-499f-85bb-45a4e8a50c3e",
   "metadata": {
    "tags": []
   },
   "outputs": [
    {
     "name": "stdout",
     "output_type": "stream",
     "text": [
      "Saving: /ext_drives/d80/Jazi_etal_2023_noInter/autopi_ca1/results/mySearchHomingMaps.pickle\n"
     ]
    }
   ],
   "source": [
    "fn=myProject.dataPath+\"/results/mySearchHomingMaps.pickle\"\n",
    "print(\"Saving:\",fn)\n",
    "with open(fn, 'wb') as handle:\n",
    "    pickle.dump(newRes, handle)"
   ]
  },
  {
   "cell_type": "markdown",
   "id": "f91485eb-ecc1-4651-aafa-4bbf0970bc4d",
   "metadata": {},
   "source": [
    "# Maps in the zone of the arena that is between the bridge and the center of the arena\n",
    "\n",
    "This is an analysis that I came up with to answer a comment raised by a reviewer. We focus on a region of the arena that is well covered in all 4 behavioral conditions."
   ]
  },
  {
   "cell_type": "code",
   "execution_count": 10,
   "id": "ffdbdc59-ebdb-4123-9c3d-4222cdbb1375",
   "metadata": {
    "tags": []
   },
   "outputs": [],
   "source": [
    "def getMapsInZone(ses,sSes,cm_per_bin = 2.5):\n",
    "    \"\"\"\n",
    "    Get all the maps of the data within the intervals of interest\n",
    "    \"\"\"\n",
    "    \n",
    "    xy_range=np.array([[-10,-40],[10,0]])\n",
    "    \n",
    "    # get all the conditions we are interested\n",
    "    conditionDicts = [{\"type\" : \"searchToLeverPath\", \"light\" : \"light\"},\n",
    "                      {\"type\" : \"searchToLeverPath\", \"light\" : \"light_1\"},\n",
    "                      {\"type\" : \"searchToLeverPath\", \"light\" : \"light_2\"},\n",
    "                      {\"type\" : \"searchToLeverPath\", \"light\" : \"dark\"},\n",
    "                      {\"type\" : \"searchToLeverPath\", \"light\" : \"dark_1\"},\n",
    "                      {\"type\" : \"searchToLeverPath\", \"light\" : \"dark_2\"},\n",
    "                      {\"type\" : \"homingFromLeavingLever\", \"light\" : \"light\"},\n",
    "                      {\"type\" : \"homingFromLeavingLever\", \"light\" : \"light_1\"},\n",
    "                      {\"type\" : \"homingFromLeavingLever\", \"light\" : \"light_2\"},\n",
    "                      {\"type\" : \"homingFromLeavingLever\", \"light\" : \"dark\"},\n",
    "                      {\"type\" : \"homingFromLeavingLever\", \"light\" : \"dark_1\"},\n",
    "                      {\"type\" : \"homingFromLeavingLever\", \"light\" : \"dark_2\"}]\n",
    "\n",
    "    res = {}\n",
    "    for d in conditionDicts:\n",
    "    \n",
    "        navPathType= d[\"type\"]\n",
    "        light = d[\"light\"]\n",
    "        inter = ses.intervalDict[navPathType+\"_\"+light]\n",
    "\n",
    "        sSes.ap.set_intervals(inter)\n",
    "        \n",
    "        \n",
    "        # limit the analysis to the zone of interest\n",
    "        center = [0,-20]\n",
    "        length = [20,40]\n",
    "        sSes.ap.invalid_outside_spatial_area(environment_shape=\"rectangle\",center=center,length=length)\n",
    "        \n",
    "        \n",
    "        for n in sSes.cg.neuron_list:\n",
    "            n.spike_train.set_intervals(inter)\n",
    "            n.spatial_properties.firing_rate_map_2d(cm_per_bin =cm_per_bin, smoothing_sigma_cm = 5, smoothing=True,xy_range=xy_range)\n",
    "    \n",
    "        mapList = [ n.spatial_properties.firing_rate_map for n in sSes.cg.neuron_list ]\n",
    "        mapStack = np.stack(mapList, axis=0)\n",
    "        res[navPathType+\"_\"+light]=mapStack\n",
    "        \n",
    "    # reset to original intervals\n",
    "    sSes.ap.unset_intervals()\n",
    "        \n",
    "    return res"
   ]
  },
  {
   "cell_type": "code",
   "execution_count": 11,
   "id": "b128d951-f90a-4405-9ab2-027a0c2a5f7b",
   "metadata": {
    "tags": []
   },
   "outputs": [],
   "source": [
    "ses = myProject.sessionList[1]\n",
    "sSes = sSesList[1]"
   ]
  },
  {
   "cell_type": "code",
   "execution_count": 12,
   "id": "48e7df42-a84f-4a81-916e-823779156a1f",
   "metadata": {
    "tags": []
   },
   "outputs": [],
   "source": [
    "res = getMapsInZone(ses,sSes)"
   ]
  },
  {
   "cell_type": "code",
   "execution_count": 13,
   "id": "714461eb-aff3-4365-845c-488483c366ac",
   "metadata": {
    "tags": []
   },
   "outputs": [
    {
     "name": "stderr",
     "output_type": "stream",
     "text": [
      "39it [04:52,  7.50s/it]\n"
     ]
    }
   ],
   "source": [
    "res = [ getMapsInZone(ses,sSes,cm_per_bin=2.5) for ses, sSes in tqdm(zip(myProject.sessionList,sSesList))]"
   ]
  },
  {
   "cell_type": "code",
   "execution_count": 14,
   "id": "8e1134e8-e936-4e7c-a161-c13202cbd60f",
   "metadata": {
    "tags": []
   },
   "outputs": [],
   "source": [
    "newRes = {}\n",
    "for k in res[0].keys():\n",
    "    newRes[k] = np.concatenate([d[k] for d in res])"
   ]
  },
  {
   "cell_type": "code",
   "execution_count": 15,
   "id": "b10ac4b3-7304-4739-873a-034795f7c7e7",
   "metadata": {
    "tags": []
   },
   "outputs": [
    {
     "name": "stdout",
     "output_type": "stream",
     "text": [
      "searchToLeverPath_light (1080, 8, 16)\n",
      "searchToLeverPath_light_1 (1080, 8, 16)\n",
      "searchToLeverPath_light_2 (1080, 8, 16)\n",
      "searchToLeverPath_dark (1080, 8, 16)\n",
      "searchToLeverPath_dark_1 (1080, 8, 16)\n",
      "searchToLeverPath_dark_2 (1080, 8, 16)\n",
      "homingFromLeavingLever_light (1080, 8, 16)\n",
      "homingFromLeavingLever_light_1 (1080, 8, 16)\n",
      "homingFromLeavingLever_light_2 (1080, 8, 16)\n",
      "homingFromLeavingLever_dark (1080, 8, 16)\n",
      "homingFromLeavingLever_dark_1 (1080, 8, 16)\n",
      "homingFromLeavingLever_dark_2 (1080, 8, 16)\n"
     ]
    }
   ],
   "source": [
    "for k in newRes.keys():\n",
    "    print(k,newRes[k].shape)"
   ]
  },
  {
   "cell_type": "code",
   "execution_count": 16,
   "id": "08bfbaaf-5866-4e08-ae08-99b1b2c05912",
   "metadata": {
    "tags": []
   },
   "outputs": [
    {
     "name": "stdout",
     "output_type": "stream",
     "text": [
      "Saving: /ext_drives/d80/Jazi_etal_2023_noInter/autopi_ca1/results/mySearchHomingMapsInZone.pickle\n"
     ]
    }
   ],
   "source": [
    "fn=myProject.dataPath+\"/results/mySearchHomingMapsInZone.pickle\"\n",
    "print(\"Saving:\",fn)\n",
    "with open(fn, 'wb') as handle:\n",
    "    pickle.dump(newRes, handle)"
   ]
  },
  {
   "cell_type": "markdown",
   "id": "b4ce8f5b-baf6-4e0d-a2ca-618943e59290",
   "metadata": {},
   "source": [
    "Repeat with larger bins for population vector analysis."
   ]
  },
  {
   "cell_type": "code",
   "execution_count": 17,
   "id": "05b5f7e1-a4e4-442a-b4a6-3515ef2ee275",
   "metadata": {
    "tags": []
   },
   "outputs": [
    {
     "name": "stderr",
     "output_type": "stream",
     "text": [
      "39it [04:51,  7.47s/it]"
     ]
    },
    {
     "name": "stdout",
     "output_type": "stream",
     "text": [
      "searchToLeverPath_light (1080, 4, 8)\n",
      "searchToLeverPath_light_1 (1080, 4, 8)\n",
      "searchToLeverPath_light_2 (1080, 4, 8)\n",
      "searchToLeverPath_dark (1080, 4, 8)\n",
      "searchToLeverPath_dark_1 (1080, 4, 8)\n",
      "searchToLeverPath_dark_2 (1080, 4, 8)\n",
      "homingFromLeavingLever_light (1080, 4, 8)\n",
      "homingFromLeavingLever_light_1 (1080, 4, 8)\n",
      "homingFromLeavingLever_light_2 (1080, 4, 8)\n",
      "homingFromLeavingLever_dark (1080, 4, 8)\n",
      "homingFromLeavingLever_dark_1 (1080, 4, 8)\n",
      "homingFromLeavingLever_dark_2 (1080, 4, 8)\n",
      "Saving: /ext_drives/d80/Jazi_etal_2023_noInter/autopi_ca1/results/mySearchHomingMapsInZone_5cm_per_bin.pickle\n"
     ]
    },
    {
     "name": "stderr",
     "output_type": "stream",
     "text": [
      "\n"
     ]
    }
   ],
   "source": [
    "res = [ getMapsInZone(ses,sSes,cm_per_bin=5.0) for ses, sSes in tqdm(zip(myProject.sessionList,sSesList))]\n",
    "newRes = {}\n",
    "for k in res[0].keys():\n",
    "    newRes[k] = np.concatenate([d[k] for d in res])\n",
    "for k in newRes.keys():\n",
    "    print(k,newRes[k].shape)\n",
    "fn=myProject.dataPath+\"/results/mySearchHomingMapsInZone_5cm_per_bin.pickle\"\n",
    "print(\"Saving:\",fn)\n",
    "with open(fn, 'wb') as handle:\n",
    "    pickle.dump(newRes, handle) "
   ]
  },
  {
   "cell_type": "code",
   "execution_count": 18,
   "id": "e2178028-ab1c-4e9e-b822-29845da2a004",
   "metadata": {},
   "outputs": [
    {
     "name": "stdout",
     "output_type": "stream",
     "text": [
      "we are done here!\n"
     ]
    }
   ],
   "source": [
    "print('we are done here!')"
   ]
  },
  {
   "cell_type": "code",
   "execution_count": null,
   "id": "d39a9433-ffc8-4abd-a329-8f34e5ebd47e",
   "metadata": {},
   "outputs": [],
   "source": []
  }
 ],
 "metadata": {
  "kernelspec": {
   "display_name": "DEEPLABCUT",
   "language": "python",
   "name": "deeplabcut"
  },
  "language_info": {
   "codemirror_mode": {
    "name": "ipython",
    "version": 3
   },
   "file_extension": ".py",
   "mimetype": "text/x-python",
   "name": "python",
   "nbconvert_exporter": "python",
   "pygments_lexer": "ipython3",
   "version": "3.8.13"
  },
  "widgets": {
   "application/vnd.jupyter.widget-state+json": {
    "state": {},
    "version_major": 2,
    "version_minor": 0
   }
  }
 },
 "nbformat": 4,
 "nbformat_minor": 5
}
