{
 "cells": [
  {
   "cell_type": "markdown",
   "id": "2bf5c550-28de-4c72-9303-254c7d5bfbf8",
   "metadata": {},
   "source": [
    "# Simple place cell statistics for search and homing path maps\n",
    "\n",
    "We calculate the statistics of firirng rate maps of the search and homing paths.\n",
    "\n",
    "We also get the map stability between conditions."
   ]
  },
  {
   "cell_type": "code",
   "execution_count": 1,
   "id": "f2b4da2a-6db1-4544-8d7b-18d681ade8b9",
   "metadata": {},
   "outputs": [
    {
     "name": "stdout",
     "output_type": "stream",
     "text": [
      "Project name: autopi_ca1\n",
      "dataPath: /ext_drives/d80/Jazi_etal_2023_noInter/autopi_ca1\n",
      "dlcModelPath: /adata/models\n",
      "Reading /ext_drives/d80/Jazi_etal_2023_noInter/autopi_ca1/sessionList\n",
      "We have 39 testing sessions in the list\n",
      "See myProject and sSesList objects\n",
      "Loading Animal_pose and Spike_train, sSes.ap and sSes.cg\n"
     ]
    },
    {
     "name": "stderr",
     "output_type": "stream",
     "text": [
      "100%|█████████████████████████████████████████████████████████████████████████████████████████████████████| 39/39 [00:22<00:00,  1.72it/s]\n"
     ]
    },
    {
     "name": "stdout",
     "output_type": "stream",
     "text": [
      "Loading ses.trial_table_simple as ses.trials\n",
      "Create condition intervals in ses.intervalDict\n"
     ]
    }
   ],
   "source": [
    "%load_ext autoreload\n",
    "%autoreload 2\n",
    "\n",
    "%run ~/repo/autopi_analysis_bk/Jazi_et.al_2023_noInt/setup_project.py\n",
    "%run ~/repo/autopi_analysis_bk/Jazi_et.al_2023_noInt/neuronAutopi.py\n",
    "\n",
    "prepareSessionsForSpatialAnalysisProject(sSesList,myProject.sessionList,pose_file_extension = \".pose_kf.npy\")"
   ]
  },
  {
   "cell_type": "markdown",
   "id": "2b641ecd-07dc-4937-87a6-bf26e5e3afbc",
   "metadata": {},
   "source": [
    "Get intervals for the search and homing paths."
   ]
  },
  {
   "cell_type": "code",
   "execution_count": 2,
   "id": "eccb63de-db6f-4862-9deb-65a5fe79edf9",
   "metadata": {},
   "outputs": [
    {
     "name": "stderr",
     "output_type": "stream",
     "text": [
      "39it [00:00, 47.39it/s]\n"
     ]
    }
   ],
   "source": [
    "for ses, sSes in tqdm(zip(myProject.sessionList,sSesList)):\n",
    "    getSearchHomingIntervals(ses,sSes)"
   ]
  },
  {
   "cell_type": "code",
   "execution_count": 3,
   "id": "cbc3dab1-cd8f-4a7c-a31e-1d2d4ef7fda1",
   "metadata": {},
   "outputs": [
    {
     "data": {
      "text/plain": [
       "dict_keys(['circ80', 'circ80_1', 'circ80_2', 'task', 'task_1', 'task_2', 'light', 'light_1', 'light_2', 'dark', 'dark_1', 'dark_2', 'searchPath_light', 'searchPath_light_1', 'searchPath_light_2', 'searchPath_dark', 'searchPath_dark_1', 'searchPath_dark_2', 'searchToLeverPath_light', 'searchToLeverPath_light_1', 'searchToLeverPath_light_2', 'searchToLeverPath_dark', 'searchToLeverPath_dark_1', 'searchToLeverPath_dark_2', 'homingPath_light', 'homingPath_light_1', 'homingPath_light_2', 'homingPath_dark', 'homingPath_dark_1', 'homingPath_dark_2', 'homingFromLeavingLever_light', 'homingFromLeavingLever_light_1', 'homingFromLeavingLever_light_2', 'homingFromLeavingLever_dark', 'homingFromLeavingLever_dark_1', 'homingFromLeavingLever_dark_2', 'homingFromLeavingLeverToPeriphery_light', 'homingFromLeavingLeverToPeriphery_light_1', 'homingFromLeavingLeverToPeriphery_light_2', 'homingFromLeavingLeverToPeriphery_dark', 'homingFromLeavingLeverToPeriphery_dark_1', 'homingFromLeavingLeverToPeriphery_dark_2', 'atLever_light', 'atLever_light_1', 'atLever_light_2', 'atLever_dark', 'atLever_dark_1', 'atLever_dark_2', 'all_light', 'all_light_1', 'all_light_2', 'all_dark', 'all_dark_1', 'all_dark_2', 'all_light_noPress', 'all_dark_noPress', 'all_task', 'all_task_1', 'all_task_2'])"
      ]
     },
     "execution_count": 3,
     "metadata": {},
     "output_type": "execute_result"
    }
   ],
   "source": [
    "ses.intervalDict.keys()"
   ]
  },
  {
   "cell_type": "code",
   "execution_count": 4,
   "id": "a4d68ecb-ce08-4eb4-955d-dfaa96f52ec1",
   "metadata": {},
   "outputs": [],
   "source": [
    "def getMapStats(ses,sSes,onlyArena=False):\n",
    "    \"\"\"\n",
    "    Get all the map stats of the data within the intervals of interest\n",
    "    \"\"\"\n",
    "    \n",
    "    xy_range=np.array([[-50,-90],[50,60]])\n",
    "    \n",
    "    # get all the conditions we are interested\n",
    "    \n",
    "    conditionDicts = [{\"type\" : \"searchToLeverPath\", \"light\" : \"light\"},\n",
    "                      {\"type\" : \"searchToLeverPath\", \"light\" : \"light_1\"},\n",
    "                      {\"type\" : \"searchToLeverPath\", \"light\" : \"light_2\"},\n",
    "                      {\"type\" : \"searchToLeverPath\", \"light\" : \"dark\"},\n",
    "                      {\"type\" : \"searchToLeverPath\", \"light\" : \"dark_1\"},\n",
    "                      {\"type\" : \"searchToLeverPath\", \"light\" : \"dark_2\"},\n",
    "                      {\"type\" : \"homingFromLeavingLever\", \"light\" : \"light\"},\n",
    "                      {\"type\" : \"homingFromLeavingLever\", \"light\" : \"light_1\"},\n",
    "                      {\"type\" : \"homingFromLeavingLever\", \"light\" : \"light_2\"},\n",
    "                      {\"type\" : \"homingFromLeavingLever\", \"light\" : \"dark\"},\n",
    "                      {\"type\" : \"homingFromLeavingLever\", \"light\" : \"dark_1\"},\n",
    "                      {\"type\" : \"homingFromLeavingLever\", \"light\" : \"dark_2\"}]\n",
    "    \n",
    "    res = []\n",
    "    for d in conditionDicts:\n",
    "    \n",
    "        navPathType= d[\"type\"]\n",
    "        light = d[\"light\"]\n",
    "    \n",
    "        myDict = {}\n",
    "        # we can now get intervals for any navPath types!\n",
    "        inter = ses.intervalDict[navPathType+\"_\"+light]\n",
    "\n",
    "        sSes.ap.set_intervals(inter)\n",
    "        \n",
    "        if onlyArena:\n",
    "            # this should come after setting the time intervals, will be reset when calling sSes.ap.set_intervals again\n",
    "            sSes.ap.invalid_outside_spatial_area(shape=\"circle\",radius=43.0,center=np.array([0,0])) ## remove the bridge and homebase\n",
    "\n",
    "        for n in sSes.cg.neuron_list:\n",
    "            n.spike_train.set_intervals(inter)\n",
    "            n.spatial_properties.firing_rate_map_2d(cm_per_bin =3, smoothing_sigma_cm = 3, smoothing=True,xy_range=xy_range)\n",
    "    \n",
    "        # get peak rate from smoothed maps\n",
    "        myDict[\"peakRate\"] = [ np.nanmax(n.spatial_properties.firing_rate_map) for n in sSes.cg.neuron_list] # not affected by onlyArena!!!!\n",
    "        myDict[\"meanRate\"] = [ n.spike_train.mean_firing_rate() for n in sSes.cg.neuron_list]\n",
    "        myDict[\"validBins\"] = [ np.sum(~np.isnan(n.spatial_properties.firing_rate_map)) for n in sSes.cg.neuron_list] # not affected by onlyArena!!!!\n",
    "        \n",
    "        for n in sSes.cg.neuron_list:\n",
    "            n.spike_train.set_intervals(inter)\n",
    "            n.spatial_properties.firing_rate_map_2d(cm_per_bin =3, smoothing=False,xy_range=xy_range)\n",
    "        \n",
    "        myDict[\"info\"] = [ n.spatial_properties.information_score() for n in sSes.cg.neuron_list]\n",
    "        myDict[\"sparsity\"] = [ n.spatial_properties.sparsity_score() for n in sSes.cg.neuron_list]\n",
    "        myDict[\"condition\"] =  navPathType+\"_\"+light\n",
    "        myDict[\"session\"] = sSes.name\n",
    "        myDict[\"mouse\"] = sSes.subject\n",
    "        myDict[\"cellId\"] = [sSes.name+\"_\"+n.name for n in sSes.cg.neuron_list]\n",
    "        \n",
    "\n",
    "        res.append(pd.DataFrame(myDict))\n",
    "        \n",
    "    # reset to original intervals\n",
    "    sSes.ap.unset_intervals()\n",
    "    \n",
    "    return pd.concat(res)"
   ]
  },
  {
   "cell_type": "markdown",
   "id": "6fa19bc8-c5a1-4a5d-b839-685ea9e0c5da",
   "metadata": {},
   "source": [
    "## Try out on one session"
   ]
  },
  {
   "cell_type": "code",
   "execution_count": 5,
   "id": "8a6bd7f6-c040-4d42-942f-c2d4687533c4",
   "metadata": {},
   "outputs": [],
   "source": [
    "ses = myProject.sessionList[0]\n",
    "sSes = sSesList[0]"
   ]
  },
  {
   "cell_type": "code",
   "execution_count": 6,
   "id": "8046c1a8-2b8d-4e40-9ba2-6c7cf5287698",
   "metadata": {},
   "outputs": [
    {
     "name": "stderr",
     "output_type": "stream",
     "text": [
      "/home/maryam/repo/spikeA/spikeA/Spatial_properties.py:660: RuntimeWarning: invalid value encountered in double_scalars\n",
      "  return 1-(((np.nansum(p*v))**2)/np.nansum(p*(v**2)))\n"
     ]
    }
   ],
   "source": [
    "res = getMapStats(ses,sSes)"
   ]
  },
  {
   "cell_type": "code",
   "execution_count": 7,
   "id": "b63cd7c9-02a3-4883-b37f-f20e6f7f00d0",
   "metadata": {},
   "outputs": [
    {
     "data": {
      "text/html": [
       "<div>\n",
       "<style scoped>\n",
       "    .dataframe tbody tr th:only-of-type {\n",
       "        vertical-align: middle;\n",
       "    }\n",
       "\n",
       "    .dataframe tbody tr th {\n",
       "        vertical-align: top;\n",
       "    }\n",
       "\n",
       "    .dataframe thead th {\n",
       "        text-align: right;\n",
       "    }\n",
       "</style>\n",
       "<table border=\"1\" class=\"dataframe\">\n",
       "  <thead>\n",
       "    <tr style=\"text-align: right;\">\n",
       "      <th></th>\n",
       "      <th>peakRate</th>\n",
       "      <th>meanRate</th>\n",
       "      <th>validBins</th>\n",
       "      <th>info</th>\n",
       "      <th>sparsity</th>\n",
       "      <th>condition</th>\n",
       "      <th>session</th>\n",
       "      <th>mouse</th>\n",
       "      <th>cellId</th>\n",
       "    </tr>\n",
       "  </thead>\n",
       "  <tbody>\n",
       "    <tr>\n",
       "      <th>0</th>\n",
       "      <td>47.284492</td>\n",
       "      <td>9.907041</td>\n",
       "      <td>194</td>\n",
       "      <td>0.400377</td>\n",
       "      <td>0.382117</td>\n",
       "      <td>searchToLeverPath_light</td>\n",
       "      <td>mn5824-20112020-0107</td>\n",
       "      <td>mn5824</td>\n",
       "      <td>mn5824-20112020-0107_80</td>\n",
       "    </tr>\n",
       "    <tr>\n",
       "      <th>1</th>\n",
       "      <td>30.461895</td>\n",
       "      <td>16.302290</td>\n",
       "      <td>194</td>\n",
       "      <td>0.444338</td>\n",
       "      <td>0.334698</td>\n",
       "      <td>searchToLeverPath_light</td>\n",
       "      <td>mn5824-20112020-0107</td>\n",
       "      <td>mn5824</td>\n",
       "      <td>mn5824-20112020-0107_90</td>\n",
       "    </tr>\n",
       "    <tr>\n",
       "      <th>2</th>\n",
       "      <td>53.661105</td>\n",
       "      <td>14.761577</td>\n",
       "      <td>194</td>\n",
       "      <td>0.302459</td>\n",
       "      <td>0.325100</td>\n",
       "      <td>searchToLeverPath_light</td>\n",
       "      <td>mn5824-20112020-0107</td>\n",
       "      <td>mn5824</td>\n",
       "      <td>mn5824-20112020-0107_92</td>\n",
       "    </tr>\n",
       "    <tr>\n",
       "      <th>3</th>\n",
       "      <td>13.225959</td>\n",
       "      <td>0.705801</td>\n",
       "      <td>194</td>\n",
       "      <td>3.925557</td>\n",
       "      <td>0.954621</td>\n",
       "      <td>searchToLeverPath_light</td>\n",
       "      <td>mn5824-20112020-0107</td>\n",
       "      <td>mn5824</td>\n",
       "      <td>mn5824-20112020-0107_96</td>\n",
       "    </tr>\n",
       "    <tr>\n",
       "      <th>4</th>\n",
       "      <td>13.343241</td>\n",
       "      <td>2.702703</td>\n",
       "      <td>194</td>\n",
       "      <td>0.550908</td>\n",
       "      <td>0.443964</td>\n",
       "      <td>searchToLeverPath_light</td>\n",
       "      <td>mn5824-20112020-0107</td>\n",
       "      <td>mn5824</td>\n",
       "      <td>mn5824-20112020-0107_98</td>\n",
       "    </tr>\n",
       "  </tbody>\n",
       "</table>\n",
       "</div>"
      ],
      "text/plain": [
       "    peakRate   meanRate  validBins      info  sparsity  \\\n",
       "0  47.284492   9.907041        194  0.400377  0.382117   \n",
       "1  30.461895  16.302290        194  0.444338  0.334698   \n",
       "2  53.661105  14.761577        194  0.302459  0.325100   \n",
       "3  13.225959   0.705801        194  3.925557  0.954621   \n",
       "4  13.343241   2.702703        194  0.550908  0.443964   \n",
       "\n",
       "                 condition               session   mouse  \\\n",
       "0  searchToLeverPath_light  mn5824-20112020-0107  mn5824   \n",
       "1  searchToLeverPath_light  mn5824-20112020-0107  mn5824   \n",
       "2  searchToLeverPath_light  mn5824-20112020-0107  mn5824   \n",
       "3  searchToLeverPath_light  mn5824-20112020-0107  mn5824   \n",
       "4  searchToLeverPath_light  mn5824-20112020-0107  mn5824   \n",
       "\n",
       "                    cellId  \n",
       "0  mn5824-20112020-0107_80  \n",
       "1  mn5824-20112020-0107_90  \n",
       "2  mn5824-20112020-0107_92  \n",
       "3  mn5824-20112020-0107_96  \n",
       "4  mn5824-20112020-0107_98  "
      ]
     },
     "execution_count": 7,
     "metadata": {},
     "output_type": "execute_result"
    }
   ],
   "source": [
    "res.head()"
   ]
  },
  {
   "cell_type": "markdown",
   "id": "b522e3fd-c470-441b-978f-8265cb33ca7f",
   "metadata": {},
   "source": [
    "## Run on all sessions"
   ]
  },
  {
   "cell_type": "code",
   "execution_count": 8,
   "id": "4be83731-31b0-4eac-b483-4f90b2cbcb95",
   "metadata": {},
   "outputs": [
    {
     "name": "stderr",
     "output_type": "stream",
     "text": [
      "0it [00:00, ?it/s]/home/maryam/repo/spikeA/spikeA/Spatial_properties.py:660: RuntimeWarning: invalid value encountered in double_scalars\n",
      "  return 1-(((np.nansum(p*v))**2)/np.nansum(p*(v**2)))\n",
      "39it [07:25, 11.42s/it]\n"
     ]
    }
   ],
   "source": [
    "res = [ getMapStats(ses,sSes) for ses, sSes in tqdm(zip(myProject.sessionList,sSesList))]"
   ]
  },
  {
   "cell_type": "code",
   "execution_count": 9,
   "id": "b01411e0-c7c6-4da4-a684-f791d4dda057",
   "metadata": {},
   "outputs": [
    {
     "data": {
      "text/html": [
       "<div>\n",
       "<style scoped>\n",
       "    .dataframe tbody tr th:only-of-type {\n",
       "        vertical-align: middle;\n",
       "    }\n",
       "\n",
       "    .dataframe tbody tr th {\n",
       "        vertical-align: top;\n",
       "    }\n",
       "\n",
       "    .dataframe thead th {\n",
       "        text-align: right;\n",
       "    }\n",
       "</style>\n",
       "<table border=\"1\" class=\"dataframe\">\n",
       "  <thead>\n",
       "    <tr style=\"text-align: right;\">\n",
       "      <th></th>\n",
       "      <th>peakRate</th>\n",
       "      <th>meanRate</th>\n",
       "      <th>validBins</th>\n",
       "      <th>info</th>\n",
       "      <th>sparsity</th>\n",
       "      <th>condition</th>\n",
       "      <th>session</th>\n",
       "      <th>mouse</th>\n",
       "      <th>cellId</th>\n",
       "    </tr>\n",
       "  </thead>\n",
       "  <tbody>\n",
       "    <tr>\n",
       "      <th>0</th>\n",
       "      <td>47.284492</td>\n",
       "      <td>9.907041</td>\n",
       "      <td>194</td>\n",
       "      <td>0.400377</td>\n",
       "      <td>0.382117</td>\n",
       "      <td>searchToLeverPath_light</td>\n",
       "      <td>mn5824-20112020-0107</td>\n",
       "      <td>mn5824</td>\n",
       "      <td>mn5824-20112020-0107_80</td>\n",
       "    </tr>\n",
       "    <tr>\n",
       "      <th>1</th>\n",
       "      <td>30.461895</td>\n",
       "      <td>16.302290</td>\n",
       "      <td>194</td>\n",
       "      <td>0.444338</td>\n",
       "      <td>0.334698</td>\n",
       "      <td>searchToLeverPath_light</td>\n",
       "      <td>mn5824-20112020-0107</td>\n",
       "      <td>mn5824</td>\n",
       "      <td>mn5824-20112020-0107_90</td>\n",
       "    </tr>\n",
       "    <tr>\n",
       "      <th>2</th>\n",
       "      <td>53.661105</td>\n",
       "      <td>14.761577</td>\n",
       "      <td>194</td>\n",
       "      <td>0.302459</td>\n",
       "      <td>0.325100</td>\n",
       "      <td>searchToLeverPath_light</td>\n",
       "      <td>mn5824-20112020-0107</td>\n",
       "      <td>mn5824</td>\n",
       "      <td>mn5824-20112020-0107_92</td>\n",
       "    </tr>\n",
       "    <tr>\n",
       "      <th>3</th>\n",
       "      <td>13.225959</td>\n",
       "      <td>0.705801</td>\n",
       "      <td>194</td>\n",
       "      <td>3.925557</td>\n",
       "      <td>0.954621</td>\n",
       "      <td>searchToLeverPath_light</td>\n",
       "      <td>mn5824-20112020-0107</td>\n",
       "      <td>mn5824</td>\n",
       "      <td>mn5824-20112020-0107_96</td>\n",
       "    </tr>\n",
       "    <tr>\n",
       "      <th>4</th>\n",
       "      <td>13.343241</td>\n",
       "      <td>2.702703</td>\n",
       "      <td>194</td>\n",
       "      <td>0.550908</td>\n",
       "      <td>0.443964</td>\n",
       "      <td>searchToLeverPath_light</td>\n",
       "      <td>mn5824-20112020-0107</td>\n",
       "      <td>mn5824</td>\n",
       "      <td>mn5824-20112020-0107_98</td>\n",
       "    </tr>\n",
       "    <tr>\n",
       "      <th>...</th>\n",
       "      <td>...</td>\n",
       "      <td>...</td>\n",
       "      <td>...</td>\n",
       "      <td>...</td>\n",
       "      <td>...</td>\n",
       "      <td>...</td>\n",
       "      <td>...</td>\n",
       "      <td>...</td>\n",
       "      <td>...</td>\n",
       "    </tr>\n",
       "    <tr>\n",
       "      <th>52</th>\n",
       "      <td>12.858016</td>\n",
       "      <td>1.886189</td>\n",
       "      <td>406</td>\n",
       "      <td>1.576006</td>\n",
       "      <td>0.729143</td>\n",
       "      <td>homingFromLeavingLever_dark_2</td>\n",
       "      <td>mn9686-01112021-0106</td>\n",
       "      <td>mn9686</td>\n",
       "      <td>mn9686-01112021-0106_238</td>\n",
       "    </tr>\n",
       "    <tr>\n",
       "      <th>53</th>\n",
       "      <td>39.576939</td>\n",
       "      <td>14.993606</td>\n",
       "      <td>406</td>\n",
       "      <td>0.636290</td>\n",
       "      <td>0.468324</td>\n",
       "      <td>homingFromLeavingLever_dark_2</td>\n",
       "      <td>mn9686-01112021-0106</td>\n",
       "      <td>mn9686</td>\n",
       "      <td>mn9686-01112021-0106_240</td>\n",
       "    </tr>\n",
       "    <tr>\n",
       "      <th>54</th>\n",
       "      <td>59.548147</td>\n",
       "      <td>3.793691</td>\n",
       "      <td>406</td>\n",
       "      <td>1.966183</td>\n",
       "      <td>0.873218</td>\n",
       "      <td>homingFromLeavingLever_dark_2</td>\n",
       "      <td>mn9686-01112021-0106</td>\n",
       "      <td>mn9686</td>\n",
       "      <td>mn9686-01112021-0106_241</td>\n",
       "    </tr>\n",
       "    <tr>\n",
       "      <th>55</th>\n",
       "      <td>30.262844</td>\n",
       "      <td>4.038789</td>\n",
       "      <td>406</td>\n",
       "      <td>1.552495</td>\n",
       "      <td>0.777601</td>\n",
       "      <td>homingFromLeavingLever_dark_2</td>\n",
       "      <td>mn9686-01112021-0106</td>\n",
       "      <td>mn9686</td>\n",
       "      <td>mn9686-01112021-0106_242</td>\n",
       "    </tr>\n",
       "    <tr>\n",
       "      <th>56</th>\n",
       "      <td>33.959416</td>\n",
       "      <td>8.066922</td>\n",
       "      <td>406</td>\n",
       "      <td>1.149584</td>\n",
       "      <td>0.644298</td>\n",
       "      <td>homingFromLeavingLever_dark_2</td>\n",
       "      <td>mn9686-01112021-0106</td>\n",
       "      <td>mn9686</td>\n",
       "      <td>mn9686-01112021-0106_246</td>\n",
       "    </tr>\n",
       "  </tbody>\n",
       "</table>\n",
       "<p>12960 rows × 9 columns</p>\n",
       "</div>"
      ],
      "text/plain": [
       "     peakRate   meanRate  validBins      info  sparsity  \\\n",
       "0   47.284492   9.907041        194  0.400377  0.382117   \n",
       "1   30.461895  16.302290        194  0.444338  0.334698   \n",
       "2   53.661105  14.761577        194  0.302459  0.325100   \n",
       "3   13.225959   0.705801        194  3.925557  0.954621   \n",
       "4   13.343241   2.702703        194  0.550908  0.443964   \n",
       "..        ...        ...        ...       ...       ...   \n",
       "52  12.858016   1.886189        406  1.576006  0.729143   \n",
       "53  39.576939  14.993606        406  0.636290  0.468324   \n",
       "54  59.548147   3.793691        406  1.966183  0.873218   \n",
       "55  30.262844   4.038789        406  1.552495  0.777601   \n",
       "56  33.959416   8.066922        406  1.149584  0.644298   \n",
       "\n",
       "                        condition               session   mouse  \\\n",
       "0         searchToLeverPath_light  mn5824-20112020-0107  mn5824   \n",
       "1         searchToLeverPath_light  mn5824-20112020-0107  mn5824   \n",
       "2         searchToLeverPath_light  mn5824-20112020-0107  mn5824   \n",
       "3         searchToLeverPath_light  mn5824-20112020-0107  mn5824   \n",
       "4         searchToLeverPath_light  mn5824-20112020-0107  mn5824   \n",
       "..                            ...                   ...     ...   \n",
       "52  homingFromLeavingLever_dark_2  mn9686-01112021-0106  mn9686   \n",
       "53  homingFromLeavingLever_dark_2  mn9686-01112021-0106  mn9686   \n",
       "54  homingFromLeavingLever_dark_2  mn9686-01112021-0106  mn9686   \n",
       "55  homingFromLeavingLever_dark_2  mn9686-01112021-0106  mn9686   \n",
       "56  homingFromLeavingLever_dark_2  mn9686-01112021-0106  mn9686   \n",
       "\n",
       "                      cellId  \n",
       "0    mn5824-20112020-0107_80  \n",
       "1    mn5824-20112020-0107_90  \n",
       "2    mn5824-20112020-0107_92  \n",
       "3    mn5824-20112020-0107_96  \n",
       "4    mn5824-20112020-0107_98  \n",
       "..                       ...  \n",
       "52  mn9686-01112021-0106_238  \n",
       "53  mn9686-01112021-0106_240  \n",
       "54  mn9686-01112021-0106_241  \n",
       "55  mn9686-01112021-0106_242  \n",
       "56  mn9686-01112021-0106_246  \n",
       "\n",
       "[12960 rows x 9 columns]"
      ]
     },
     "execution_count": 9,
     "metadata": {},
     "output_type": "execute_result"
    }
   ],
   "source": [
    "df = pd.concat(res)\n",
    "df"
   ]
  },
  {
   "cell_type": "code",
   "execution_count": 10,
   "id": "0f731f15-e931-4d1f-8116-5c19b0920d01",
   "metadata": {},
   "outputs": [
    {
     "name": "stdout",
     "output_type": "stream",
     "text": [
      "/ext_drives/d80/Jazi_etal_2023_noInter/autopi_ca1/results/mySearchHomingMapStats.csv\n"
     ]
    }
   ],
   "source": [
    "fn=myProject.dataPath+\"/results/mySearchHomingMapStats.csv\"\n",
    "print(fn)\n",
    "df.to_csv(fn,index=False)"
   ]
  },
  {
   "cell_type": "markdown",
   "id": "9d68324b-0eea-4d48-bfb0-adefb1233786",
   "metadata": {},
   "source": [
    "## Map similarity\n",
    "\n",
    "We compare the map similarity across conditions."
   ]
  },
  {
   "cell_type": "code",
   "execution_count": 15,
   "id": "86502fb2-02aa-4d61-8a82-28ff300ccd50",
   "metadata": {},
   "outputs": [],
   "source": [
    "from scipy.stats import pearsonr\n",
    "def map_cor(a,b):\n",
    "    \"\"\"\n",
    "    Correlation coefficient between two firing rate maps\n",
    "    \n",
    "    Arguments:\n",
    "    a: 2D np.array (map1)\n",
    "    b: 2D np.array (map2)\n",
    "    \n",
    "    Returns:\n",
    "    Pearson correlation coefficient between a and b\n",
    "    \"\"\"\n",
    "    a = a.flatten()\n",
    "    b = b.flatten()\n",
    "    indices = np.logical_and(~np.isnan(a), ~np.isnan(b))\n",
    "    if np.sum(indices)<2:\n",
    "        return np.nan\n",
    "    r,p = pearsonr(a[indices],b[indices])\n",
    "    return r"
   ]
  },
  {
   "cell_type": "code",
   "execution_count": 16,
   "id": "61e4574d-3c98-4a6b-8824-d88b62fa9faf",
   "metadata": {},
   "outputs": [],
   "source": [
    "fn = myProject.dataPath+\"/results/mySearchHomingMaps.pickle\" #, dictionary with key per condition\n",
    "with open(fn, 'rb') as handle:\n",
    "    myMaps = pickle.load(handle)"
   ]
  },
  {
   "cell_type": "code",
   "execution_count": 17,
   "id": "784ccad0-b78c-425c-9b4f-4ad607eda1ae",
   "metadata": {},
   "outputs": [
    {
     "data": {
      "text/plain": [
       "dict_keys(['searchToLeverPath_light', 'searchToLeverPath_light_1', 'searchToLeverPath_light_2', 'searchToLeverPath_dark', 'searchToLeverPath_dark_1', 'searchToLeverPath_dark_2', 'homingFromLeavingLever_light', 'homingFromLeavingLever_light_1', 'homingFromLeavingLever_light_2', 'homingFromLeavingLever_dark', 'homingFromLeavingLever_dark_1', 'homingFromLeavingLever_dark_2'])"
      ]
     },
     "execution_count": 17,
     "metadata": {},
     "output_type": "execute_result"
    }
   ],
   "source": [
    "myMaps.keys()"
   ]
  },
  {
   "cell_type": "code",
   "execution_count": 19,
   "id": "2f6f01dc-9309-4418-8c33-1db863ea10f3",
   "metadata": {},
   "outputs": [
    {
     "data": {
      "text/plain": [
       "(1080, 34, 50)"
      ]
     },
     "execution_count": 19,
     "metadata": {},
     "output_type": "execute_result"
    }
   ],
   "source": [
    "myMaps['searchToLeverPath_light'].shape"
   ]
  },
  {
   "cell_type": "code",
   "execution_count": 20,
   "id": "2919b005-5897-433d-abd4-f8c766391bd6",
   "metadata": {},
   "outputs": [
    {
     "data": {
      "text/plain": [
       "[('searchToLeverPath_light', 'homingFromLeavingLever_light', 'slhl'),\n",
       " ('searchToLeverPath_dark', 'homingFromLeavingLever_dark', 'sdhd'),\n",
       " ('searchToLeverPath_light', 'searchToLeverPath_dark', 'slsd'),\n",
       " ('homingFromLeavingLever_light', 'homingFromLeavingLever_dark', 'hlhd'),\n",
       " ('searchToLeverPath_light', 'homingFromLeavingLever_dark', 'slhd'),\n",
       " ('searchToLeverPath_dark', 'homingFromLeavingLever_light', 'sdhl'),\n",
       " ('searchToLeverPath_light_1', 'searchToLeverPath_light_2', 'sl1sl2'),\n",
       " ('searchToLeverPath_dark_1', 'searchToLeverPath_dark_2', 'sd1sd2'),\n",
       " ('homingFromLeavingLever_light_1',\n",
       "  'homingFromLeavingLever_light_2',\n",
       "  'hl1hl2'),\n",
       " ('homingFromLeavingLever_dark_1', 'homingFromLeavingLever_dark_2', 'hd1hd2')]"
      ]
     },
     "execution_count": 20,
     "metadata": {},
     "output_type": "execute_result"
    }
   ],
   "source": [
    "env1 = ['searchToLeverPath_light','searchToLeverPath_dark','searchToLeverPath_light','homingFromLeavingLever_light', \"searchToLeverPath_light\",\"searchToLeverPath_dark\", \"searchToLeverPath_light_1\",\"searchToLeverPath_dark_1\",\"homingFromLeavingLever_light_1\",\"homingFromLeavingLever_dark_1\"]\n",
    "env2 = ['homingFromLeavingLever_light','homingFromLeavingLever_dark','searchToLeverPath_dark', 'homingFromLeavingLever_dark', \"homingFromLeavingLever_dark\", \"homingFromLeavingLever_light\", \"searchToLeverPath_light_2\",\"searchToLeverPath_dark_2\",\"homingFromLeavingLever_light_2\",\"homingFromLeavingLever_dark_2\"]\n",
    "condNames = [\"slhl\",\"sdhd\",\"slsd\",\"hlhd\",\"slhd\",\"sdhl\",\"sl1sl2\",\"sd1sd2\",\"hl1hl2\",\"hd1hd2\"]\n",
    "list(zip(env1,env2,condNames))"
   ]
  },
  {
   "cell_type": "code",
   "execution_count": 21,
   "id": "ca6c9398-de05-47b9-a3bc-e5ad13a378e9",
   "metadata": {},
   "outputs": [
    {
     "name": "stdout",
     "output_type": "stream",
     "text": [
      "searchToLeverPath_light homingFromLeavingLever_light slhl\n",
      "searchToLeverPath_dark homingFromLeavingLever_dark sdhd\n",
      "searchToLeverPath_light searchToLeverPath_dark slsd\n"
     ]
    },
    {
     "name": "stderr",
     "output_type": "stream",
     "text": [
      "/home/maryam/anaconda3/envs/DEEPLABCUT/lib/python3.8/site-packages/scipy/stats/_stats_py.py:4427: ConstantInputWarning: An input array is constant; the correlation coefficient is not defined.\n",
      "  warnings.warn(stats.ConstantInputWarning(msg))\n"
     ]
    },
    {
     "name": "stdout",
     "output_type": "stream",
     "text": [
      "homingFromLeavingLever_light homingFromLeavingLever_dark hlhd\n",
      "searchToLeverPath_light homingFromLeavingLever_dark slhd\n",
      "searchToLeverPath_dark homingFromLeavingLever_light sdhl\n"
     ]
    },
    {
     "name": "stderr",
     "output_type": "stream",
     "text": [
      "/home/maryam/anaconda3/envs/DEEPLABCUT/lib/python3.8/site-packages/scipy/stats/_stats_py.py:4427: ConstantInputWarning: An input array is constant; the correlation coefficient is not defined.\n",
      "  warnings.warn(stats.ConstantInputWarning(msg))\n",
      "/home/maryam/anaconda3/envs/DEEPLABCUT/lib/python3.8/site-packages/scipy/stats/_stats_py.py:4427: ConstantInputWarning: An input array is constant; the correlation coefficient is not defined.\n",
      "  warnings.warn(stats.ConstantInputWarning(msg))\n",
      "/home/maryam/anaconda3/envs/DEEPLABCUT/lib/python3.8/site-packages/scipy/stats/_stats_py.py:4427: ConstantInputWarning: An input array is constant; the correlation coefficient is not defined.\n",
      "  warnings.warn(stats.ConstantInputWarning(msg))\n"
     ]
    },
    {
     "name": "stdout",
     "output_type": "stream",
     "text": [
      "searchToLeverPath_light_1 searchToLeverPath_light_2 sl1sl2\n",
      "searchToLeverPath_dark_1 searchToLeverPath_dark_2 sd1sd2\n",
      "homingFromLeavingLever_light_1 homingFromLeavingLever_light_2 hl1hl2\n"
     ]
    },
    {
     "name": "stderr",
     "output_type": "stream",
     "text": [
      "/home/maryam/anaconda3/envs/DEEPLABCUT/lib/python3.8/site-packages/scipy/stats/_stats_py.py:4427: ConstantInputWarning: An input array is constant; the correlation coefficient is not defined.\n",
      "  warnings.warn(stats.ConstantInputWarning(msg))\n",
      "/home/maryam/anaconda3/envs/DEEPLABCUT/lib/python3.8/site-packages/scipy/stats/_stats_py.py:4427: ConstantInputWarning: An input array is constant; the correlation coefficient is not defined.\n",
      "  warnings.warn(stats.ConstantInputWarning(msg))\n",
      "/home/maryam/anaconda3/envs/DEEPLABCUT/lib/python3.8/site-packages/scipy/stats/_stats_py.py:4427: ConstantInputWarning: An input array is constant; the correlation coefficient is not defined.\n",
      "  warnings.warn(stats.ConstantInputWarning(msg))\n"
     ]
    },
    {
     "name": "stdout",
     "output_type": "stream",
     "text": [
      "homingFromLeavingLever_dark_1 homingFromLeavingLever_dark_2 hd1hd2\n"
     ]
    },
    {
     "name": "stderr",
     "output_type": "stream",
     "text": [
      "/home/maryam/anaconda3/envs/DEEPLABCUT/lib/python3.8/site-packages/scipy/stats/_stats_py.py:4427: ConstantInputWarning: An input array is constant; the correlation coefficient is not defined.\n",
      "  warnings.warn(stats.ConstantInputWarning(msg))\n"
     ]
    }
   ],
   "source": [
    "mapCorDf = pd.DataFrame()\n",
    "nCells=myMaps[list(myMaps.keys())[0]].shape[0]\n",
    "for e1,e2,c in zip(env1,env2,condNames):\n",
    "    print(e1,e2,c)\n",
    "    correlation  = [ map_cor(myMaps[e1][i],myMaps[e2][i]) for i in range(nCells) ]\n",
    "    df1 = pd.DataFrame({\"condition\":c,\n",
    "                       \"r\":correlation})\n",
    "    mapCorDf = pd.concat([mapCorDf,df1])"
   ]
  },
  {
   "cell_type": "code",
   "execution_count": 22,
   "id": "4cca0c8c-6ae7-4de1-a77b-8c849424a2be",
   "metadata": {},
   "outputs": [
    {
     "data": {
      "text/html": [
       "<div>\n",
       "<style scoped>\n",
       "    .dataframe tbody tr th:only-of-type {\n",
       "        vertical-align: middle;\n",
       "    }\n",
       "\n",
       "    .dataframe tbody tr th {\n",
       "        vertical-align: top;\n",
       "    }\n",
       "\n",
       "    .dataframe thead th {\n",
       "        text-align: right;\n",
       "    }\n",
       "</style>\n",
       "<table border=\"1\" class=\"dataframe\">\n",
       "  <thead>\n",
       "    <tr style=\"text-align: right;\">\n",
       "      <th></th>\n",
       "      <th>condition</th>\n",
       "      <th>r</th>\n",
       "    </tr>\n",
       "  </thead>\n",
       "  <tbody>\n",
       "    <tr>\n",
       "      <th>0</th>\n",
       "      <td>slhl</td>\n",
       "      <td>-0.281157</td>\n",
       "    </tr>\n",
       "    <tr>\n",
       "      <th>1</th>\n",
       "      <td>slhl</td>\n",
       "      <td>-0.364280</td>\n",
       "    </tr>\n",
       "    <tr>\n",
       "      <th>2</th>\n",
       "      <td>slhl</td>\n",
       "      <td>0.079883</td>\n",
       "    </tr>\n",
       "    <tr>\n",
       "      <th>3</th>\n",
       "      <td>slhl</td>\n",
       "      <td>0.161184</td>\n",
       "    </tr>\n",
       "    <tr>\n",
       "      <th>4</th>\n",
       "      <td>slhl</td>\n",
       "      <td>-0.602283</td>\n",
       "    </tr>\n",
       "    <tr>\n",
       "      <th>...</th>\n",
       "      <td>...</td>\n",
       "      <td>...</td>\n",
       "    </tr>\n",
       "    <tr>\n",
       "      <th>1075</th>\n",
       "      <td>hd1hd2</td>\n",
       "      <td>0.146109</td>\n",
       "    </tr>\n",
       "    <tr>\n",
       "      <th>1076</th>\n",
       "      <td>hd1hd2</td>\n",
       "      <td>0.298639</td>\n",
       "    </tr>\n",
       "    <tr>\n",
       "      <th>1077</th>\n",
       "      <td>hd1hd2</td>\n",
       "      <td>0.288522</td>\n",
       "    </tr>\n",
       "    <tr>\n",
       "      <th>1078</th>\n",
       "      <td>hd1hd2</td>\n",
       "      <td>-0.219147</td>\n",
       "    </tr>\n",
       "    <tr>\n",
       "      <th>1079</th>\n",
       "      <td>hd1hd2</td>\n",
       "      <td>0.738553</td>\n",
       "    </tr>\n",
       "  </tbody>\n",
       "</table>\n",
       "<p>10800 rows × 2 columns</p>\n",
       "</div>"
      ],
      "text/plain": [
       "     condition         r\n",
       "0         slhl -0.281157\n",
       "1         slhl -0.364280\n",
       "2         slhl  0.079883\n",
       "3         slhl  0.161184\n",
       "4         slhl -0.602283\n",
       "...        ...       ...\n",
       "1075    hd1hd2  0.146109\n",
       "1076    hd1hd2  0.298639\n",
       "1077    hd1hd2  0.288522\n",
       "1078    hd1hd2 -0.219147\n",
       "1079    hd1hd2  0.738553\n",
       "\n",
       "[10800 rows x 2 columns]"
      ]
     },
     "execution_count": 22,
     "metadata": {},
     "output_type": "execute_result"
    }
   ],
   "source": [
    "mapCorDf"
   ]
  },
  {
   "cell_type": "code",
   "execution_count": 23,
   "id": "d4187781-697b-4a40-a626-02d45259b8b2",
   "metadata": {},
   "outputs": [
    {
     "data": {
      "text/plain": [
       "(10800, 2)"
      ]
     },
     "execution_count": 23,
     "metadata": {},
     "output_type": "execute_result"
    }
   ],
   "source": [
    "mapCorDf.shape ## shoul not be 12680"
   ]
  },
  {
   "cell_type": "code",
   "execution_count": 24,
   "id": "1d2915f8-6a3e-43b0-afb8-ec2ee8f3dd22",
   "metadata": {},
   "outputs": [
    {
     "name": "stdout",
     "output_type": "stream",
     "text": [
      "Saving to /ext_drives/d80/Jazi_etal_2023_noInter/autopi_ca1/results/searchHomingMapCorDf.csv\n"
     ]
    }
   ],
   "source": [
    "fn=myProject.dataPath+\"/results/searchHomingMapCorDf.csv\"\n",
    "print(\"Saving to\",fn)\n",
    "mapCorDf.to_csv(fn,index=False)"
   ]
  },
  {
   "cell_type": "code",
   "execution_count": null,
   "id": "d5df569c-f07c-40d8-821f-d0284ca92b79",
   "metadata": {},
   "outputs": [],
   "source": []
  }
 ],
 "metadata": {
  "kernelspec": {
   "display_name": "DEEPLABCUT",
   "language": "python",
   "name": "deeplabcut"
  },
  "language_info": {
   "codemirror_mode": {
    "name": "ipython",
    "version": 3
   },
   "file_extension": ".py",
   "mimetype": "text/x-python",
   "name": "python",
   "nbconvert_exporter": "python",
   "pygments_lexer": "ipython3",
   "version": "3.8.13"
  },
  "widgets": {
   "application/vnd.jupyter.widget-state+json": {
    "state": {},
    "version_major": 2,
    "version_minor": 0
   }
  }
 },
 "nbformat": 4,
 "nbformat_minor": 5
}
