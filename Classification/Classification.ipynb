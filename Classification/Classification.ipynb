{
 "cells": [
  {
   "cell_type": "markdown",
   "id": "6b492850-fc60-498b-8b6a-75f10bb13193",
   "metadata": {},
   "source": [
    "### Classification \n",
    "\n",
    "To classify the cells to different types we used:\n",
    "\n",
    "1. mean wave form \n",
    "2. mean firing rate \n",
    "3. spike time autocorrelation \n",
    "\n",
    "We first ran the PCA analysis on the mean waveform and the spike time autocorrelation of the cells and select the first three componenets. \n",
    "Plus the mean firing rate we then ran the k mean clustering algorithm on the cells. At the end we also ran the linear discrimination analysis to visualize how well we can seperate the two clusters from each other.\n",
    "\n",
    "Since we have an ongoing project with the other cell types in this database, we can not provide the data that we used to classify the cells in this repository. \n",
    "This repository only includes pyramidal cells that were recorded in this project. \n",
    "\n",
    "\n",
    "To find more about the classification analysis check this paper: \n",
    "\n",
    "Csicsvari J, Hirase H, Czurkó A, Mamiya A, Buzsáki G. Oscillatory coupling of hippocampal pyramidal cells and interneurons in the behaving Rat. J Neurosci. 1999 Jan 1;19(1):274-87. doi: 10.1523/JNEUROSCI.19-01-00274.1999. PMID: 9870957; PMCID: PMC6782375.\n",
    "\n",
    "\n"
   ]
  },
  {
   "cell_type": "code",
   "execution_count": null,
   "id": "de638e75-2f19-45f4-b6f5-478fe9634aaf",
   "metadata": {},
   "outputs": [],
   "source": []
  }
 ],
 "metadata": {
  "kernelspec": {
   "display_name": "Python 3 (ipykernel)",
   "language": "python",
   "name": "python3"
  },
  "language_info": {
   "codemirror_mode": {
    "name": "ipython",
    "version": 3
   },
   "file_extension": ".py",
   "mimetype": "text/x-python",
   "name": "python",
   "nbconvert_exporter": "python",
   "pygments_lexer": "ipython3",
   "version": "3.8.10"
  },
  "widgets": {
   "application/vnd.jupyter.widget-state+json": {
    "state": {},
    "version_major": 2,
    "version_minor": 0
   }
  }
 },
 "nbformat": 4,
 "nbformat_minor": 5
}
