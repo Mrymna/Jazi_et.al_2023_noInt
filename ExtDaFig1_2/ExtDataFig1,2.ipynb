{
 "cells": [
  {
   "cell_type": "code",
   "execution_count": 1,
   "id": "819e774b-6f6e-4a1d-af7e-a4be228c7439",
   "metadata": {},
   "outputs": [
    {
     "name": "stdout",
     "output_type": "stream",
     "text": [
      "data path: /home/pascal/repo/Jazi_et.al_2023_noInt/data/Jazi_etal_2023_noInter\n",
      "Project name: autopi_behavior_2021\n",
      "dataPath: /home/pascal/repo/Jazi_et.al_2023_noInt/data/Jazi_etal_2023_noInter/autopi_behavior_2021\n"
     ]
    }
   ],
   "source": [
    "%matplotlib inline\n",
    "%load_ext autoreload\n",
    "%autoreload 2\n",
    "%run ../setup_behaviour.py"
   ]
  },
  {
   "cell_type": "code",
   "execution_count": 2,
   "id": "9284359f-b9e3-4d6f-b98b-11ba93fe005c",
   "metadata": {},
   "outputs": [
    {
     "data": {
      "text/plain": [
       "'/home/pascal/repo/Jazi_et.al_2023_noInt/data/Jazi_etal_2023_noInter/autopi_behavior_2021'"
      ]
     },
     "execution_count": 2,
     "metadata": {},
     "output_type": "execute_result"
    }
   ],
   "source": [
    "myProject.dataPath"
   ]
  },
  {
   "cell_type": "code",
   "execution_count": 3,
   "id": "36a011bf-415d-4196-9d2c-310c2840e76b",
   "metadata": {},
   "outputs": [
    {
     "name": "stdout",
     "output_type": "stream",
     "text": [
      "Reading /home/pascal/repo/Jazi_et.al_2023_noInt/data/Jazi_etal_2023_noInter/autopi_behavior_2021/training_sessions\n",
      "We have 151 training sessions\n"
     ]
    }
   ],
   "source": [
    "\n",
    "fn=myProject.dataPath+\"/training_sessions\"\n",
    "\n",
    "\n",
    "print(\"Reading \" + fn)\n",
    "sessionNamesTraining = pd.read_csv(fn) # this will be a pandas dataframe\n",
    "#sessionNamesTraining\n",
    "myProject.createSessionList(sessionNameList=sessionNamesTraining.sessionName.to_list(), needVideos=False)\n",
    "print(\"We have {} training sessions\".format(len(myProject.sessionList)))"
   ]
  },
  {
   "cell_type": "markdown",
   "id": "266006f2-da83-41b3-9e05-703eae2029c7",
   "metadata": {},
   "source": [
    "Load the 2df containing the log files from the training sets. "
   ]
  },
  {
   "cell_type": "code",
   "execution_count": 4,
   "id": "afe56bf4-0f55-4ac0-aeef-07f16626aae7",
   "metadata": {},
   "outputs": [
    {
     "name": "stdout",
     "output_type": "stream",
     "text": [
      "log length: 169431, protocol length: 151\n"
     ]
    }
   ],
   "source": [
    "fn = myProject.dataPath+\"/results/logTrainingDF.csv\"\n",
    "log = pd.read_csv(fn)\n",
    "# save the DataFram as csv file\n",
    "fn = myProject.dataPath+\"/results/protocolTrainingDF.csv\"\n",
    "protocol = pd.read_csv(fn)\n",
    "print(\"log length: {}, protocol length: {}\".format(len(log),len(protocol)))"
   ]
  },
  {
   "cell_type": "markdown",
   "id": "53d34d88-91bd-4ac3-a493-50cfba225a83",
   "metadata": {},
   "source": [
    "## select only the sessions with the lever_training data"
   ]
  },
  {
   "cell_type": "code",
   "execution_count": 5,
   "id": "418b336d-b2b8-4f3c-b65b-d4a6a840a31c",
   "metadata": {},
   "outputs": [],
   "source": [
    "leverTrainingSessions = protocol[\"session\"][protocol[\"script\"] == \"autopi_lever_training.py\"]"
   ]
  },
  {
   "cell_type": "code",
   "execution_count": 6,
   "id": "1491ea29-6eac-4dfc-87a2-6d2965ef71c6",
   "metadata": {},
   "outputs": [
    {
     "name": "stdout",
     "output_type": "stream",
     "text": [
      "Number of mice : 20\n",
      "Number of sessions : 137\n"
     ]
    }
   ],
   "source": [
    "logLever = log[log[\"session\"].isin(leverTrainingSessions)]\n",
    "print(\"Number of mice : {}\".format(logLever[\"subject\"].nunique()))\n",
    "print(\"Number of sessions : {}\".format(logLever[\"session\"].nunique()))"
   ]
  },
  {
   "cell_type": "markdown",
   "id": "54495070-74fb-4f55-a2d0-0f3bbb925a43",
   "metadata": {},
   "source": [
    "Get the rank of each session for each mouse. We want to have a number from 1 to 6 for each session."
   ]
  },
  {
   "cell_type": "code",
   "execution_count": 7,
   "id": "8a2bd2b5-9095-4448-bd74-b788ee7180c0",
   "metadata": {},
   "outputs": [
    {
     "data": {
      "text/html": [
       "<div>\n",
       "<style scoped>\n",
       "    .dataframe tbody tr th:only-of-type {\n",
       "        vertical-align: middle;\n",
       "    }\n",
       "\n",
       "    .dataframe tbody tr th {\n",
       "        vertical-align: top;\n",
       "    }\n",
       "\n",
       "    .dataframe thead th {\n",
       "        text-align: right;\n",
       "    }\n",
       "</style>\n",
       "<table border=\"1\" class=\"dataframe\">\n",
       "  <thead>\n",
       "    <tr style=\"text-align: right;\">\n",
       "      <th></th>\n",
       "      <th>Unnamed: 0</th>\n",
       "      <th>event</th>\n",
       "      <th>time</th>\n",
       "      <th>param</th>\n",
       "      <th>timeWS</th>\n",
       "      <th>session</th>\n",
       "      <th>subject</th>\n",
       "      <th>sessionDateTime</th>\n",
       "      <th>day</th>\n",
       "    </tr>\n",
       "  </thead>\n",
       "  <tbody>\n",
       "    <tr>\n",
       "      <th>0</th>\n",
       "      <td>0</td>\n",
       "      <td>start</td>\n",
       "      <td>1.581003e+09</td>\n",
       "      <td>NaN</td>\n",
       "      <td>0.000000</td>\n",
       "      <td>mn3016-06022020-1629</td>\n",
       "      <td>mn3016</td>\n",
       "      <td>2020-02-06 16:29:00</td>\n",
       "      <td>1.0</td>\n",
       "    </tr>\n",
       "    <tr>\n",
       "      <th>1</th>\n",
       "      <td>1</td>\n",
       "      <td>magazineBeamBreak</td>\n",
       "      <td>1.581003e+09</td>\n",
       "      <td>NaN</td>\n",
       "      <td>18.744677</td>\n",
       "      <td>mn3016-06022020-1629</td>\n",
       "      <td>mn3016</td>\n",
       "      <td>2020-02-06 16:29:00</td>\n",
       "      <td>1.0</td>\n",
       "    </tr>\n",
       "    <tr>\n",
       "      <th>2</th>\n",
       "      <td>2</td>\n",
       "      <td>magazineBeamReceived</td>\n",
       "      <td>1.581003e+09</td>\n",
       "      <td>NaN</td>\n",
       "      <td>18.930677</td>\n",
       "      <td>mn3016-06022020-1629</td>\n",
       "      <td>mn3016</td>\n",
       "      <td>2020-02-06 16:29:00</td>\n",
       "      <td>1.0</td>\n",
       "    </tr>\n",
       "    <tr>\n",
       "      <th>3</th>\n",
       "      <td>3</td>\n",
       "      <td>magazineBeamBreak</td>\n",
       "      <td>1.581003e+09</td>\n",
       "      <td>NaN</td>\n",
       "      <td>19.695677</td>\n",
       "      <td>mn3016-06022020-1629</td>\n",
       "      <td>mn3016</td>\n",
       "      <td>2020-02-06 16:29:00</td>\n",
       "      <td>1.0</td>\n",
       "    </tr>\n",
       "    <tr>\n",
       "      <th>4</th>\n",
       "      <td>4</td>\n",
       "      <td>magazineBeamReceived</td>\n",
       "      <td>1.581003e+09</td>\n",
       "      <td>NaN</td>\n",
       "      <td>19.879677</td>\n",
       "      <td>mn3016-06022020-1629</td>\n",
       "      <td>mn3016</td>\n",
       "      <td>2020-02-06 16:29:00</td>\n",
       "      <td>1.0</td>\n",
       "    </tr>\n",
       "    <tr>\n",
       "      <th>...</th>\n",
       "      <td>...</td>\n",
       "      <td>...</td>\n",
       "      <td>...</td>\n",
       "      <td>...</td>\n",
       "      <td>...</td>\n",
       "      <td>...</td>\n",
       "      <td>...</td>\n",
       "      <td>...</td>\n",
       "      <td>...</td>\n",
       "    </tr>\n",
       "    <tr>\n",
       "      <th>169426</th>\n",
       "      <td>1335</td>\n",
       "      <td>magazineBeamBreak</td>\n",
       "      <td>1.590932e+09</td>\n",
       "      <td>NaN</td>\n",
       "      <td>1773.857026</td>\n",
       "      <td>mn633-31052020-1309</td>\n",
       "      <td>mn633</td>\n",
       "      <td>2020-05-31 13:09:00</td>\n",
       "      <td>3.0</td>\n",
       "    </tr>\n",
       "    <tr>\n",
       "      <th>169427</th>\n",
       "      <td>1336</td>\n",
       "      <td>magazineBeamReceived</td>\n",
       "      <td>1.590932e+09</td>\n",
       "      <td>NaN</td>\n",
       "      <td>1774.526026</td>\n",
       "      <td>mn633-31052020-1309</td>\n",
       "      <td>mn633</td>\n",
       "      <td>2020-05-31 13:09:00</td>\n",
       "      <td>3.0</td>\n",
       "    </tr>\n",
       "    <tr>\n",
       "      <th>169428</th>\n",
       "      <td>1337</td>\n",
       "      <td>magazineBeamBreak</td>\n",
       "      <td>1.590932e+09</td>\n",
       "      <td>NaN</td>\n",
       "      <td>1798.139047</td>\n",
       "      <td>mn633-31052020-1309</td>\n",
       "      <td>mn633</td>\n",
       "      <td>2020-05-31 13:09:00</td>\n",
       "      <td>3.0</td>\n",
       "    </tr>\n",
       "    <tr>\n",
       "      <th>169429</th>\n",
       "      <td>1338</td>\n",
       "      <td>magazineBeamReceived</td>\n",
       "      <td>1.590932e+09</td>\n",
       "      <td>NaN</td>\n",
       "      <td>1798.174047</td>\n",
       "      <td>mn633-31052020-1309</td>\n",
       "      <td>mn633</td>\n",
       "      <td>2020-05-31 13:09:00</td>\n",
       "      <td>3.0</td>\n",
       "    </tr>\n",
       "    <tr>\n",
       "      <th>169430</th>\n",
       "      <td>1339</td>\n",
       "      <td>end</td>\n",
       "      <td>1.590932e+09</td>\n",
       "      <td>NaN</td>\n",
       "      <td>1802.479396</td>\n",
       "      <td>mn633-31052020-1309</td>\n",
       "      <td>mn633</td>\n",
       "      <td>2020-05-31 13:09:00</td>\n",
       "      <td>3.0</td>\n",
       "    </tr>\n",
       "  </tbody>\n",
       "</table>\n",
       "<p>154352 rows × 9 columns</p>\n",
       "</div>"
      ],
      "text/plain": [
       "        Unnamed: 0                 event          time  param       timeWS  \\\n",
       "0                0                 start  1.581003e+09    NaN     0.000000   \n",
       "1                1     magazineBeamBreak  1.581003e+09    NaN    18.744677   \n",
       "2                2  magazineBeamReceived  1.581003e+09    NaN    18.930677   \n",
       "3                3     magazineBeamBreak  1.581003e+09    NaN    19.695677   \n",
       "4                4  magazineBeamReceived  1.581003e+09    NaN    19.879677   \n",
       "...            ...                   ...           ...    ...          ...   \n",
       "169426        1335     magazineBeamBreak  1.590932e+09    NaN  1773.857026   \n",
       "169427        1336  magazineBeamReceived  1.590932e+09    NaN  1774.526026   \n",
       "169428        1337     magazineBeamBreak  1.590932e+09    NaN  1798.139047   \n",
       "169429        1338  magazineBeamReceived  1.590932e+09    NaN  1798.174047   \n",
       "169430        1339                   end  1.590932e+09    NaN  1802.479396   \n",
       "\n",
       "                     session subject     sessionDateTime  day  \n",
       "0       mn3016-06022020-1629  mn3016 2020-02-06 16:29:00  1.0  \n",
       "1       mn3016-06022020-1629  mn3016 2020-02-06 16:29:00  1.0  \n",
       "2       mn3016-06022020-1629  mn3016 2020-02-06 16:29:00  1.0  \n",
       "3       mn3016-06022020-1629  mn3016 2020-02-06 16:29:00  1.0  \n",
       "4       mn3016-06022020-1629  mn3016 2020-02-06 16:29:00  1.0  \n",
       "...                      ...     ...                 ...  ...  \n",
       "169426   mn633-31052020-1309   mn633 2020-05-31 13:09:00  3.0  \n",
       "169427   mn633-31052020-1309   mn633 2020-05-31 13:09:00  3.0  \n",
       "169428   mn633-31052020-1309   mn633 2020-05-31 13:09:00  3.0  \n",
       "169429   mn633-31052020-1309   mn633 2020-05-31 13:09:00  3.0  \n",
       "169430   mn633-31052020-1309   mn633 2020-05-31 13:09:00  3.0  \n",
       "\n",
       "[154352 rows x 9 columns]"
      ]
     },
     "execution_count": 7,
     "metadata": {},
     "output_type": "execute_result"
    }
   ],
   "source": [
    "logLever[\"sessionDateTime\"] =  pd.to_datetime(logLever[\"sessionDateTime\"]) # somehow needed\n",
    "logLever[\"day\"] = logLever[\"sessionDateTime\"].groupby(logLever[\"subject\"]).rank(method=\"dense\")\n",
    "logLever"
   ]
  },
  {
   "cell_type": "markdown",
   "id": "3de229c3-bb69-431e-9ff4-e23fe269f993",
   "metadata": {},
   "source": [
    "## Session summary statistics\n",
    "\n",
    "Now we want to get summary statistics for each day-mouse combination. \n",
    "This will be stored as a new pandas data frame.\n",
    "\n",
    "We write a function that returns a dataframe with the variables we want per day-mouse, then apply it to a groupby dataframe."
   ]
  },
  {
   "cell_type": "code",
   "execution_count": 8,
   "id": "91807b99-0519-4361-8677-165868dd549e",
   "metadata": {},
   "outputs": [],
   "source": [
    "def mySummary(df):\n",
    "    duration=df[\"time\"].max() - df[\"time\"].min()\n",
    "    leverPresses=np.sum((df[\"event\"]==\"lever_press\") |(df[\"event\"]==\"leverPress\"))\n",
    "    rewards=np.sum(df[\"event\"]==\"pellet_delivery_report\")\n",
    "    leverPressesPerReward = leverPresses/rewards\n",
    "    rewardRate = rewards/duration*60 # per minutes\n",
    "    return pd.DataFrame({\"duration\": [duration],\n",
    "                        \"leverPresses\": [leverPresses],\n",
    "                        \"rewards\": [rewards],\n",
    "                        \"leverPressesPerReward\": [leverPressesPerReward],\n",
    "                        \"rewardRate\": [rewardRate]})\n",
    "\n",
    "sDf = logLever.groupby([\"subject\",\"day\"]).apply(mySummary).reset_index()\n",
    "\n",
    "# only keep the first 6 days for the figure\n",
    "sDf = sDf[sDf.day < 7 ]\n"
   ]
  },
  {
   "cell_type": "code",
   "execution_count": 9,
   "id": "28999c07-0e6b-41a1-ad84-84930805e7d8",
   "metadata": {},
   "outputs": [
    {
     "data": {
      "text/html": [
       "<div>\n",
       "<style scoped>\n",
       "    .dataframe tbody tr th:only-of-type {\n",
       "        vertical-align: middle;\n",
       "    }\n",
       "\n",
       "    .dataframe tbody tr th {\n",
       "        vertical-align: top;\n",
       "    }\n",
       "\n",
       "    .dataframe thead th {\n",
       "        text-align: right;\n",
       "    }\n",
       "</style>\n",
       "<table border=\"1\" class=\"dataframe\">\n",
       "  <thead>\n",
       "    <tr style=\"text-align: right;\">\n",
       "      <th></th>\n",
       "      <th>subject</th>\n",
       "      <th>day</th>\n",
       "      <th>level_2</th>\n",
       "      <th>duration</th>\n",
       "      <th>leverPresses</th>\n",
       "      <th>rewards</th>\n",
       "      <th>leverPressesPerReward</th>\n",
       "      <th>rewardRate</th>\n",
       "    </tr>\n",
       "  </thead>\n",
       "  <tbody>\n",
       "    <tr>\n",
       "      <th>0</th>\n",
       "      <td>mn3016</td>\n",
       "      <td>1.0</td>\n",
       "      <td>0</td>\n",
       "      <td>1802.376751</td>\n",
       "      <td>23</td>\n",
       "      <td>13</td>\n",
       "      <td>1.769231</td>\n",
       "      <td>0.432762</td>\n",
       "    </tr>\n",
       "    <tr>\n",
       "      <th>1</th>\n",
       "      <td>mn3016</td>\n",
       "      <td>2.0</td>\n",
       "      <td>0</td>\n",
       "      <td>1802.524856</td>\n",
       "      <td>50</td>\n",
       "      <td>22</td>\n",
       "      <td>2.272727</td>\n",
       "      <td>0.732306</td>\n",
       "    </tr>\n",
       "    <tr>\n",
       "      <th>2</th>\n",
       "      <td>mn3016</td>\n",
       "      <td>3.0</td>\n",
       "      <td>0</td>\n",
       "      <td>1802.443332</td>\n",
       "      <td>55</td>\n",
       "      <td>31</td>\n",
       "      <td>1.774194</td>\n",
       "      <td>1.031933</td>\n",
       "    </tr>\n",
       "    <tr>\n",
       "      <th>3</th>\n",
       "      <td>mn3016</td>\n",
       "      <td>4.0</td>\n",
       "      <td>0</td>\n",
       "      <td>1802.407652</td>\n",
       "      <td>88</td>\n",
       "      <td>76</td>\n",
       "      <td>1.157895</td>\n",
       "      <td>2.529949</td>\n",
       "    </tr>\n",
       "    <tr>\n",
       "      <th>4</th>\n",
       "      <td>mn3016</td>\n",
       "      <td>5.0</td>\n",
       "      <td>0</td>\n",
       "      <td>1026.867459</td>\n",
       "      <td>132</td>\n",
       "      <td>100</td>\n",
       "      <td>1.320000</td>\n",
       "      <td>5.843013</td>\n",
       "    </tr>\n",
       "    <tr>\n",
       "      <th>...</th>\n",
       "      <td>...</td>\n",
       "      <td>...</td>\n",
       "      <td>...</td>\n",
       "      <td>...</td>\n",
       "      <td>...</td>\n",
       "      <td>...</td>\n",
       "      <td>...</td>\n",
       "      <td>...</td>\n",
       "    </tr>\n",
       "    <tr>\n",
       "      <th>132</th>\n",
       "      <td>mn633</td>\n",
       "      <td>1.0</td>\n",
       "      <td>0</td>\n",
       "      <td>1802.560159</td>\n",
       "      <td>32</td>\n",
       "      <td>22</td>\n",
       "      <td>1.454545</td>\n",
       "      <td>0.732292</td>\n",
       "    </tr>\n",
       "    <tr>\n",
       "      <th>133</th>\n",
       "      <td>mn633</td>\n",
       "      <td>2.0</td>\n",
       "      <td>0</td>\n",
       "      <td>1802.510743</td>\n",
       "      <td>35</td>\n",
       "      <td>25</td>\n",
       "      <td>1.400000</td>\n",
       "      <td>0.832173</td>\n",
       "    </tr>\n",
       "    <tr>\n",
       "      <th>134</th>\n",
       "      <td>mn633</td>\n",
       "      <td>3.0</td>\n",
       "      <td>0</td>\n",
       "      <td>1802.479396</td>\n",
       "      <td>122</td>\n",
       "      <td>61</td>\n",
       "      <td>2.000000</td>\n",
       "      <td>2.030536</td>\n",
       "    </tr>\n",
       "    <tr>\n",
       "      <th>135</th>\n",
       "      <td>mn633</td>\n",
       "      <td>4.0</td>\n",
       "      <td>0</td>\n",
       "      <td>1802.477537</td>\n",
       "      <td>118</td>\n",
       "      <td>76</td>\n",
       "      <td>1.552632</td>\n",
       "      <td>2.529851</td>\n",
       "    </tr>\n",
       "    <tr>\n",
       "      <th>136</th>\n",
       "      <td>mn633</td>\n",
       "      <td>5.0</td>\n",
       "      <td>0</td>\n",
       "      <td>1599.316192</td>\n",
       "      <td>177</td>\n",
       "      <td>100</td>\n",
       "      <td>1.770000</td>\n",
       "      <td>3.751603</td>\n",
       "    </tr>\n",
       "  </tbody>\n",
       "</table>\n",
       "<p>117 rows × 8 columns</p>\n",
       "</div>"
      ],
      "text/plain": [
       "    subject  day  level_2     duration  leverPresses  rewards  \\\n",
       "0    mn3016  1.0        0  1802.376751            23       13   \n",
       "1    mn3016  2.0        0  1802.524856            50       22   \n",
       "2    mn3016  3.0        0  1802.443332            55       31   \n",
       "3    mn3016  4.0        0  1802.407652            88       76   \n",
       "4    mn3016  5.0        0  1026.867459           132      100   \n",
       "..      ...  ...      ...          ...           ...      ...   \n",
       "132   mn633  1.0        0  1802.560159            32       22   \n",
       "133   mn633  2.0        0  1802.510743            35       25   \n",
       "134   mn633  3.0        0  1802.479396           122       61   \n",
       "135   mn633  4.0        0  1802.477537           118       76   \n",
       "136   mn633  5.0        0  1599.316192           177      100   \n",
       "\n",
       "     leverPressesPerReward  rewardRate  \n",
       "0                 1.769231    0.432762  \n",
       "1                 2.272727    0.732306  \n",
       "2                 1.774194    1.031933  \n",
       "3                 1.157895    2.529949  \n",
       "4                 1.320000    5.843013  \n",
       "..                     ...         ...  \n",
       "132               1.454545    0.732292  \n",
       "133               1.400000    0.832173  \n",
       "134               2.000000    2.030536  \n",
       "135               1.552632    2.529851  \n",
       "136               1.770000    3.751603  \n",
       "\n",
       "[117 rows x 8 columns]"
      ]
     },
     "execution_count": 9,
     "metadata": {},
     "output_type": "execute_result"
    }
   ],
   "source": [
    "sDf"
   ]
  },
  {
   "cell_type": "code",
   "execution_count": 10,
   "id": "394f7b79-8fcc-4833-9ce3-34758cbd17ea",
   "metadata": {},
   "outputs": [
    {
     "name": "stdout",
     "output_type": "stream",
     "text": [
      "number of mice: 20\n",
      "number of sessions: 117\n"
     ]
    }
   ],
   "source": [
    "print(\"number of mice: {}\".format(sDf[\"subject\"].nunique()))\n",
    "print(\"number of sessions: {}\".format(len(sDf[\"subject\"])))"
   ]
  },
  {
   "cell_type": "code",
   "execution_count": 11,
   "id": "79980a7c-fc28-4797-b120-9cf34454ebb1",
   "metadata": {},
   "outputs": [
    {
     "data": {
      "image/png": "[encoded data removed]",
      "text/plain": [
       "<Figure size 750x250 with 3 Axes>"
      ]
     },
     "metadata": {},
     "output_type": "display_data"
    }
   ],
   "source": [
    "col=3\n",
    "row=1\n",
    "sizePerPlot=2.5\n",
    "fig = plt.figure(figsize=(col*sizePerPlot,row*sizePerPlot))\n",
    "gs = gridspec.GridSpec(row,col,wspace=0.5, hspace=0.3)\n",
    "fig.tight_layout()\n",
    "\n",
    "#############################################\n",
    "#############################################\n",
    "##b\n",
    "ax = plt.subplot(gs[0,0], ) # get a subplot\n",
    "sns.boxplot(y='leverPresses', x='day', \n",
    "                 data=sDf,showfliers=False,color=sns.color_palette()[0] )\n",
    "sns.stripplot(y='leverPresses', x='day', \n",
    "                 data=sDf,color=\"black\")\n",
    "plt.xticks(range(6),labels=[\"1\",\"2\",\"3\",\"4\",\"5\",\"6\"])\n",
    "plt.xlabel(\"Day\")\n",
    "plt.ylabel(\"Lever presses\")\n",
    "ax.yaxis.set_label_coords(-0.18,0.5)\n",
    "ax.xaxis.set_label_coords(0.5, -0.12)\n",
    "ax.tick_params(axis='both', which='major', pad=3)\n",
    "ax.spines['top'].set_visible(False)\n",
    "ax.spines['right'].set_visible(False)\n",
    "ax.spines['left'].set_linewidth(1.5)\n",
    "ax.spines['bottom'].set_linewidth(1.5)\n",
    "ax.xaxis.set_tick_params(width=1.5)\n",
    "ax.yaxis.set_tick_params(width=1.5)\n",
    "\n",
    "\n",
    "#############################################\n",
    "# c\n",
    "ax = plt.subplot(gs[0,1], ) # get a subplot\n",
    "sns.boxplot(y='rewards', x='day', \n",
    "                 data=sDf,showfliers=False,color=sns.color_palette()[0] )\n",
    "sns.stripplot(y='rewards', x='day', \n",
    "                 data=sDf,color=\"black\")\n",
    "plt.xticks(range(6),labels=[\"1\",\"2\",\"3\",\"4\",\"5\",\"6\"])\n",
    "plt.xlabel(\"Day\")\n",
    "plt.ylabel(\"Rewards\")\n",
    "ax.xaxis.set_label_coords(0.5, -0.12)\n",
    "ax.yaxis.set_label_coords(-0.18,0.5)\n",
    "ax.tick_params(axis='both', which='major', pad=3)\n",
    "ax.spines['top'].set_visible(False)\n",
    "ax.spines['right'].set_visible(False)\n",
    "ax.spines['left'].set_linewidth(1.5)\n",
    "ax.spines['bottom'].set_linewidth(1.5)\n",
    "ax.xaxis.set_tick_params(width=1.5)\n",
    "ax.yaxis.set_tick_params(width=1.5)\n",
    "\n",
    "\n",
    "#############################################\n",
    "# d\n",
    "ax = plt.subplot(gs[0,2], ) # get a subplot\n",
    "sns.boxplot(y='rewardRate', x='day', \n",
    "                 data=sDf,showfliers=False,color=sns.color_palette()[0] )\n",
    "sns.stripplot(y='rewardRate', x='day', \n",
    "                 data=sDf,color=\"black\")\n",
    "plt.xticks(range(6),labels=[\"1\",\"2\",\"3\",\"4\",\"5\",\"6\"])\n",
    "plt.xlabel(\"Day\")\n",
    "plt.ylabel(\"Reward rate (per min.)\")\n",
    "ax.xaxis.set_label_coords(0.5, -0.12)\n",
    "ax.yaxis.set_label_coords(-0.18,0.5)\n",
    "ax.tick_params(axis='both', which='major', pad=3)\n",
    "ax.spines['top'].set_visible(False)\n",
    "ax.spines['right'].set_visible(False)\n",
    "ax.spines['left'].set_linewidth(1.5)\n",
    "ax.spines['bottom'].set_linewidth(1.5)\n",
    "ax.xaxis.set_tick_params(width=1.5)\n",
    "ax.yaxis.set_tick_params(width=1.5)\n"
   ]
  },
  {
   "cell_type": "markdown",
   "id": "781ee5d9-d7af-42ff-8c37-2a64f1cfa253",
   "metadata": {},
   "source": [
    "## ExtDataFig2"
   ]
  },
  {
   "cell_type": "code",
   "execution_count": 12,
   "id": "44af9227-0e80-49ee-9681-4900d2d6c0ff",
   "metadata": {},
   "outputs": [],
   "source": [
    "fn =  myProject.dataPath+\"/results/trialsDF.csv\"\n",
    "df = pd.read_csv(fn)\n"
   ]
  },
  {
   "cell_type": "code",
   "execution_count": 13,
   "id": "bfc419e5-7f88-4198-bdf2-9608315362d2",
   "metadata": {},
   "outputs": [
    {
     "name": "stdout",
     "output_type": "stream",
     "text": [
      "/home/pascal/repo/Jazi_et.al_2023_noInt/data/Jazi_etal_2023_noInter/autopi_behavior_2021/results/speedProfile.pkl\n"
     ]
    }
   ],
   "source": [
    "import pickle\n",
    "\n",
    "fn = myProject.dataPath+\"/results/speedProfile.pkl\"\n",
    "print(fn)\n",
    "sProfile = pickle.load(open(fn, \"rb\" ) )\n",
    "\n",
    "if sProfile[\"searchTotal\"].shape[0] != len(df):\n",
    "    print(\"Problem with the length of sProfile and df\")"
   ]
  },
  {
   "cell_type": "markdown",
   "id": "6b905d0f-b1ba-4709-9dfb-9cee7c2a7bae",
   "metadata": {},
   "source": [
    "Get a first idea of the number of trials we have in our dataset."
   ]
  },
  {
   "cell_type": "code",
   "execution_count": 14,
   "id": "2db63bc8-72ee-4121-ac9d-5f530e7b56e5",
   "metadata": {},
   "outputs": [
    {
     "name": "stdout",
     "output_type": "stream",
     "text": [
      "Number of mice : 13\n",
      "Number of sessions : 67\n",
      "Number of trials : 4787\n",
      "Percentage of invalid trials: 1.75 %\n",
      "Number of dark trials: 2194\n",
      "Number of light trials: 2593\n",
      "Median number of trials per session: 73.0\n",
      "Mean number of trials per session: 71.4\n",
      "Minimum number of trials per session: 36\n",
      "Maximum number of trials per session: 104\n"
     ]
    }
   ],
   "source": [
    "print(\"Number of mice : {}\".format(len(df.subject.unique())))\n",
    "print(\"Number of sessions : {}\".format(len(df.sessionName.unique())))\n",
    "print(\"Number of trials : {}\".format(len(df)))\n",
    "print(\"Percentage of invalid trials: {:.3} %\".format(len(df[df.valid==False])/len(df)*100))\n",
    "print(\"Number of dark trials: {}\".format(len(df[df.light==\"dark\"])))\n",
    "print(\"Number of light trials: {}\".format(len(df[df.light==\"light\"])))\n",
    "print(\"Median number of trials per session: {}\".format(df.sessionName.value_counts().median()))\n",
    "print(\"Mean number of trials per session: {:.3}\".format(df.sessionName.value_counts().mean()))\n",
    "print(\"Minimum number of trials per session: {}\".format(df.sessionName.value_counts().min()))\n",
    "print(\"Maximum number of trials per session: {}\".format(df.sessionName.value_counts().max()))"
   ]
  },
  {
   "cell_type": "code",
   "execution_count": 17,
   "id": "ea93214c-7889-4695-abed-5ac44739c6b7",
   "metadata": {},
   "outputs": [
    {
     "data": {
      "image/png": "[encoded data removed]",
      "text/plain": [
       "<Figure size 1000x300 with 4 Axes>"
      ]
     },
     "metadata": {},
     "output_type": "display_data"
    }
   ],
   "source": [
    "# to remove trials at the edge\n",
    "maxDistance=30\n",
    "\n",
    "df[\"leverDistanceCenter\"] = np.sqrt((df.leverPressX.values**2 + df.leverPressY.values**2))\n",
    "\n",
    "fig, axes = plt.subplots(1,4,figsize=(10,3))\n",
    "\n",
    "plt.subplots_adjust(wspace=0.4)\n",
    "#axes[0].set_aspect('equal', adjustable='box')\n",
    "\n",
    "axes[0].scatter(df.leverPressX,df.leverPressY,s=3,alpha=0.2)\n",
    "arena=np.arange(start=0,stop=2*np.pi,step=0.02)\n",
    "axes[0].plot(np.cos(arena)*40,np.sin(arena)*40,label=\"arena\")\n",
    "axes[0].plot(np.cos(arena)*maxDistance,np.sin(arena)*maxDistance,label=\"limit\")\n",
    "axes[0].set_xlabel(\"cm\")\n",
    "axes[0].set_ylabel(\"cm\")\n",
    "axes[0].legend(loc=\"best\")\n",
    "axes[0].spines['top'].set_visible(False)\n",
    "axes[0].spines['right'].set_visible(False)\n",
    "axes[0].set_aspect('equal', adjustable='box')\n",
    "\n",
    "axes[1].scatter(df.leverPressX,df.leverPressY,s=3,alpha=0.2)\n",
    "arena=np.arange(start=0,stop=2*np.pi,step=0.02)\n",
    "axes[1].plot(np.cos(arena)*40,np.sin(arena)*40,label=\"arena\")\n",
    "axes[1].plot(np.cos(arena)*30,np.sin(arena)*30,label=\"limit\")\n",
    "axes[1].set_xlabel(\"cm\")\n",
    "axes[1].set_ylabel(\"cm\")\n",
    "axes[1].spines['top'].set_visible(False)\n",
    "axes[1].spines['right'].set_visible(False)\n",
    "axes[1].set_aspect('equal', adjustable='box')\n",
    "\n",
    "axes[2].hist(df.leverDistanceCenter,bins=40)\n",
    "axes[2].set_xlabel(\"Lever distance from center (cm)\")\n",
    "axes[2].set_ylabel(\"Trials\")\n",
    "axes[2].spines['top'].set_visible(False)\n",
    "axes[2].spines['right'].set_visible(False)\n",
    "\n",
    "# clean the dataset from these trials\n",
    "boolIndices = df.leverDistanceCenter<maxDistance\n",
    "df = df[boolIndices]\n",
    "\n",
    "axes[3].hist(df.leverPositionOri, bins=35)\n",
    "axes[3].set_xlabel('lever orientations (deg)')\n",
    "axes[3].set_ylabel('Trials')\n",
    "axes[3].spines['top'].set_visible(False)\n",
    "axes[3].spines['right'].set_visible(False)\n",
    "plt.show()"
   ]
  },
  {
   "cell_type": "code",
   "execution_count": null,
   "id": "f589d67f-11c9-4c32-8cd9-337280ac0233",
   "metadata": {},
   "outputs": [],
   "source": []
  },
  {
   "cell_type": "code",
   "execution_count": null,
   "id": "9400bc42-b5c7-40c4-bf91-8710f19f1bb8",
   "metadata": {},
   "outputs": [],
   "source": []
  }
 ],
 "metadata": {
  "kernelspec": {
   "display_name": "Python 3 (ipykernel)",
   "language": "python",
   "name": "python3"
  },
  "language_info": {
   "codemirror_mode": {
    "name": "ipython",
    "version": 3
   },
   "file_extension": ".py",
   "mimetype": "text/x-python",
   "name": "python",
   "nbconvert_exporter": "python",
   "pygments_lexer": "ipython3",
   "version": "3.8.10"
  },
  "widgets": {
   "application/vnd.jupyter.widget-state+json": {
    "state": {},
    "version_major": 2,
    "version_minor": 0
   }
  }
 },
 "nbformat": 4,
 "nbformat_minor": 5
}
